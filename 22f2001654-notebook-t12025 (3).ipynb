{
 "cells": [
  {
   "cell_type": "code",
   "execution_count": 1,
   "id": "07f359fc",
   "metadata": {
    "execution": {
     "iopub.execute_input": "2025-03-19T13:56:06.671871Z",
     "iopub.status.busy": "2025-03-19T13:56:06.671533Z",
     "iopub.status.idle": "2025-03-19T13:56:11.352251Z",
     "shell.execute_reply": "2025-03-19T13:56:11.351319Z"
    },
    "papermill": {
     "duration": 4.695885,
     "end_time": "2025-03-19T13:56:11.354129",
     "exception": false,
     "start_time": "2025-03-19T13:56:06.658244",
     "status": "completed"
    },
    "tags": []
   },
   "outputs": [],
   "source": [
    "import pandas as pd\n",
    "import numpy as np\n",
    "import seaborn as sns\n",
    "import matplotlib.pyplot as plt\n",
    "\n",
    "# Load Data\n",
    "df_train = pd.read_csv(\"/kaggle/input/System-Threat-Forecaster/train.csv\")\n",
    "df_test = pd.read_csv(\"/kaggle/input/System-Threat-Forecaster/test.csv\")\n",
    "\n",
    "# Drop Unnecessary Columns\n",
    "df_train = df_train.drop(columns=[\"MachineID\"])\n",
    "df_test_id = df_test[\"MachineID\"] \n",
    "df_test = df_test.drop(columns=[\"MachineID\"])\n",
    "\n",
    "# Separate Target\n",
    "y_train = df_train[\"target\"]\n",
    "X_train  = df_train.drop(columns=[\"target\"])\n"
   ]
  },
  {
   "cell_type": "code",
   "execution_count": 2,
   "id": "5b02da17",
   "metadata": {
    "execution": {
     "iopub.execute_input": "2025-03-19T13:56:11.377812Z",
     "iopub.status.busy": "2025-03-19T13:56:11.377355Z",
     "iopub.status.idle": "2025-03-19T13:56:11.383645Z",
     "shell.execute_reply": "2025-03-19T13:56:11.382650Z"
    },
    "papermill": {
     "duration": 0.019524,
     "end_time": "2025-03-19T13:56:11.385083",
     "exception": false,
     "start_time": "2025-03-19T13:56:11.365559",
     "status": "completed"
    },
    "tags": []
   },
   "outputs": [
    {
     "data": {
      "text/plain": [
       "(100000, 75)"
      ]
     },
     "execution_count": 2,
     "metadata": {},
     "output_type": "execute_result"
    }
   ],
   "source": [
    "df_train.shape"
   ]
  },
  {
   "cell_type": "code",
   "execution_count": 3,
   "id": "a0e7774c",
   "metadata": {
    "execution": {
     "iopub.execute_input": "2025-03-19T13:56:11.408999Z",
     "iopub.status.busy": "2025-03-19T13:56:11.408683Z",
     "iopub.status.idle": "2025-03-19T13:56:11.412531Z",
     "shell.execute_reply": "2025-03-19T13:56:11.411634Z"
    },
    "papermill": {
     "duration": 0.017422,
     "end_time": "2025-03-19T13:56:11.414057",
     "exception": false,
     "start_time": "2025-03-19T13:56:11.396635",
     "status": "completed"
    },
    "tags": []
   },
   "outputs": [],
   "source": [
    "pd.set_option('display.max_columns', None)"
   ]
  },
  {
   "cell_type": "code",
   "execution_count": 4,
   "id": "fff2364f",
   "metadata": {
    "execution": {
     "iopub.execute_input": "2025-03-19T13:56:11.438008Z",
     "iopub.status.busy": "2025-03-19T13:56:11.437678Z",
     "iopub.status.idle": "2025-03-19T13:56:11.732857Z",
     "shell.execute_reply": "2025-03-19T13:56:11.731863Z"
    },
    "papermill": {
     "duration": 0.308979,
     "end_time": "2025-03-19T13:56:11.734434",
     "exception": false,
     "start_time": "2025-03-19T13:56:11.425455",
     "status": "completed"
    },
    "tags": []
   },
   "outputs": [
    {
     "data": {
      "text/html": [
       "<div>\n",
       "<style scoped>\n",
       "    .dataframe tbody tr th:only-of-type {\n",
       "        vertical-align: middle;\n",
       "    }\n",
       "\n",
       "    .dataframe tbody tr th {\n",
       "        vertical-align: top;\n",
       "    }\n",
       "\n",
       "    .dataframe thead th {\n",
       "        text-align: right;\n",
       "    }\n",
       "</style>\n",
       "<table border=\"1\" class=\"dataframe\">\n",
       "  <thead>\n",
       "    <tr style=\"text-align: right;\">\n",
       "      <th></th>\n",
       "      <th>IsBetaUser</th>\n",
       "      <th>RealTimeProtectionState</th>\n",
       "      <th>IsPassiveModeEnabled</th>\n",
       "      <th>AntivirusConfigID</th>\n",
       "      <th>NumAntivirusProductsInstalled</th>\n",
       "      <th>NumAntivirusProductsEnabled</th>\n",
       "      <th>HasTpm</th>\n",
       "      <th>CountryID</th>\n",
       "      <th>CityID</th>\n",
       "      <th>GeoRegionID</th>\n",
       "      <th>LocaleEnglishNameID</th>\n",
       "      <th>OSBuildNumber</th>\n",
       "      <th>OSProductSuite</th>\n",
       "      <th>IsSystemProtected</th>\n",
       "      <th>AutoSampleSubmissionEnabled</th>\n",
       "      <th>SMode</th>\n",
       "      <th>IEVersionID</th>\n",
       "      <th>FirewallEnabled</th>\n",
       "      <th>EnableLUA</th>\n",
       "      <th>OEMNameID</th>\n",
       "      <th>OEMModelID</th>\n",
       "      <th>ProcessorCoreCount</th>\n",
       "      <th>ProcessorManufacturerID</th>\n",
       "      <th>ProcessorModelID</th>\n",
       "      <th>PrimaryDiskCapacityMB</th>\n",
       "      <th>SystemVolumeCapacityMB</th>\n",
       "      <th>HasOpticalDiskDrive</th>\n",
       "      <th>TotalPhysicalRAMMB</th>\n",
       "      <th>PrimaryDisplayDiagonalInches</th>\n",
       "      <th>PrimaryDisplayResolutionHorizontal</th>\n",
       "      <th>PrimaryDisplayResolutionVertical</th>\n",
       "      <th>InternalBatteryNumberOfCharges</th>\n",
       "      <th>OSBuildNumberOnly</th>\n",
       "      <th>OSBuildRevisionOnly</th>\n",
       "      <th>OSInstallLanguageID</th>\n",
       "      <th>OSUILocaleID</th>\n",
       "      <th>IsPortableOS</th>\n",
       "      <th>IsFlightsDisabled</th>\n",
       "      <th>FirmwareManufacturerID</th>\n",
       "      <th>FirmwareVersionID</th>\n",
       "      <th>IsSecureBootEnabled</th>\n",
       "      <th>IsVirtualDevice</th>\n",
       "      <th>IsTouchEnabled</th>\n",
       "      <th>IsPenCapable</th>\n",
       "      <th>IsAlwaysOnAlwaysConnectedCapable</th>\n",
       "      <th>IsGamer</th>\n",
       "      <th>RegionIdentifier</th>\n",
       "      <th>target</th>\n",
       "    </tr>\n",
       "  </thead>\n",
       "  <tbody>\n",
       "    <tr>\n",
       "      <th>count</th>\n",
       "      <td>100000.0</td>\n",
       "      <td>99934.000000</td>\n",
       "      <td>100000.000000</td>\n",
       "      <td>99924.000000</td>\n",
       "      <td>99924.000000</td>\n",
       "      <td>99924.000000</td>\n",
       "      <td>100000.000000</td>\n",
       "      <td>100000.000000</td>\n",
       "      <td>99377.000000</td>\n",
       "      <td>100000.000000</td>\n",
       "      <td>100000.000000</td>\n",
       "      <td>100000.000000</td>\n",
       "      <td>100000.000000</td>\n",
       "      <td>99924.000000</td>\n",
       "      <td>100000.0</td>\n",
       "      <td>99019.000000</td>\n",
       "      <td>99893.000000</td>\n",
       "      <td>99834.000000</td>\n",
       "      <td>99981.000000</td>\n",
       "      <td>99788.000000</td>\n",
       "      <td>99772.000000</td>\n",
       "      <td>99915.000000</td>\n",
       "      <td>99915.000000</td>\n",
       "      <td>99915.000000</td>\n",
       "      <td>9.989000e+04</td>\n",
       "      <td>9.989000e+04</td>\n",
       "      <td>100000.00000</td>\n",
       "      <td>99849.000000</td>\n",
       "      <td>99928.000000</td>\n",
       "      <td>99928.000000</td>\n",
       "      <td>99928.000000</td>\n",
       "      <td>9.948500e+04</td>\n",
       "      <td>100000.000000</td>\n",
       "      <td>100000.000000</td>\n",
       "      <td>99887.000000</td>\n",
       "      <td>100000.000000</td>\n",
       "      <td>100000.000000</td>\n",
       "      <td>99674.0</td>\n",
       "      <td>99624.000000</td>\n",
       "      <td>99666.000000</td>\n",
       "      <td>100000.000000</td>\n",
       "      <td>99980.000000</td>\n",
       "      <td>100000.000000</td>\n",
       "      <td>100000.000000</td>\n",
       "      <td>99866.000000</td>\n",
       "      <td>99441.000000</td>\n",
       "      <td>99441.000000</td>\n",
       "      <td>100000.000000</td>\n",
       "    </tr>\n",
       "    <tr>\n",
       "      <th>mean</th>\n",
       "      <td>0.0</td>\n",
       "      <td>6.848430</td>\n",
       "      <td>0.017620</td>\n",
       "      <td>47975.710440</td>\n",
       "      <td>1.326528</td>\n",
       "      <td>1.018264</td>\n",
       "      <td>0.996780</td>\n",
       "      <td>108.078790</td>\n",
       "      <td>81029.938587</td>\n",
       "      <td>169.741630</td>\n",
       "      <td>122.695100</td>\n",
       "      <td>15917.208720</td>\n",
       "      <td>578.403380</td>\n",
       "      <td>0.955326</td>\n",
       "      <td>0.0</td>\n",
       "      <td>0.000505</td>\n",
       "      <td>124.053848</td>\n",
       "      <td>0.980067</td>\n",
       "      <td>0.996569</td>\n",
       "      <td>2209.573265</td>\n",
       "      <td>238780.914154</td>\n",
       "      <td>4.011500</td>\n",
       "      <td>4.530711</td>\n",
       "      <td>2367.693069</td>\n",
       "      <td>5.158619e+05</td>\n",
       "      <td>3.819905e+05</td>\n",
       "      <td>0.08140</td>\n",
       "      <td>6132.087442</td>\n",
       "      <td>16.708674</td>\n",
       "      <td>1552.230416</td>\n",
       "      <td>898.253192</td>\n",
       "      <td>1.118069e+09</td>\n",
       "      <td>15990.596350</td>\n",
       "      <td>986.531360</td>\n",
       "      <td>14.519267</td>\n",
       "      <td>60.030870</td>\n",
       "      <td>0.000520</td>\n",
       "      <td>0.0</td>\n",
       "      <td>401.987613</td>\n",
       "      <td>32942.648044</td>\n",
       "      <td>0.495690</td>\n",
       "      <td>0.003841</td>\n",
       "      <td>0.128470</td>\n",
       "      <td>0.040580</td>\n",
       "      <td>0.058398</td>\n",
       "      <td>0.296668</td>\n",
       "      <td>7.875866</td>\n",
       "      <td>0.505250</td>\n",
       "    </tr>\n",
       "    <tr>\n",
       "      <th>std</th>\n",
       "      <td>0.0</td>\n",
       "      <td>1.015166</td>\n",
       "      <td>0.131566</td>\n",
       "      <td>13803.321533</td>\n",
       "      <td>0.520681</td>\n",
       "      <td>0.155291</td>\n",
       "      <td>0.056654</td>\n",
       "      <td>63.062151</td>\n",
       "      <td>48944.027074</td>\n",
       "      <td>89.188929</td>\n",
       "      <td>69.242252</td>\n",
       "      <td>1943.421132</td>\n",
       "      <td>247.240971</td>\n",
       "      <td>0.206588</td>\n",
       "      <td>0.0</td>\n",
       "      <td>0.022466</td>\n",
       "      <td>33.535395</td>\n",
       "      <td>0.139771</td>\n",
       "      <td>0.266669</td>\n",
       "      <td>1300.863891</td>\n",
       "      <td>71708.483379</td>\n",
       "      <td>2.033075</td>\n",
       "      <td>1.288050</td>\n",
       "      <td>837.822392</td>\n",
       "      <td>3.525624e+05</td>\n",
       "      <td>3.246240e+05</td>\n",
       "      <td>0.27345</td>\n",
       "      <td>4813.882548</td>\n",
       "      <td>6.031598</td>\n",
       "      <td>363.438980</td>\n",
       "      <td>213.695880</td>\n",
       "      <td>1.884682e+09</td>\n",
       "      <td>1810.756601</td>\n",
       "      <td>2971.429862</td>\n",
       "      <td>10.142233</td>\n",
       "      <td>44.715508</td>\n",
       "      <td>0.022798</td>\n",
       "      <td>0.0</td>\n",
       "      <td>221.318891</td>\n",
       "      <td>21151.970827</td>\n",
       "      <td>0.499984</td>\n",
       "      <td>0.061855</td>\n",
       "      <td>0.334614</td>\n",
       "      <td>0.197316</td>\n",
       "      <td>0.234496</td>\n",
       "      <td>0.456791</td>\n",
       "      <td>4.562533</td>\n",
       "      <td>0.499975</td>\n",
       "    </tr>\n",
       "    <tr>\n",
       "      <th>min</th>\n",
       "      <td>0.0</td>\n",
       "      <td>0.000000</td>\n",
       "      <td>0.000000</td>\n",
       "      <td>39.000000</td>\n",
       "      <td>1.000000</td>\n",
       "      <td>0.000000</td>\n",
       "      <td>0.000000</td>\n",
       "      <td>1.000000</td>\n",
       "      <td>7.000000</td>\n",
       "      <td>1.000000</td>\n",
       "      <td>1.000000</td>\n",
       "      <td>7601.000000</td>\n",
       "      <td>16.000000</td>\n",
       "      <td>0.000000</td>\n",
       "      <td>0.0</td>\n",
       "      <td>0.000000</td>\n",
       "      <td>39.000000</td>\n",
       "      <td>0.000000</td>\n",
       "      <td>0.000000</td>\n",
       "      <td>46.000000</td>\n",
       "      <td>22.000000</td>\n",
       "      <td>1.000000</td>\n",
       "      <td>1.000000</td>\n",
       "      <td>3.000000</td>\n",
       "      <td>1.228800e+04</td>\n",
       "      <td>1.088000e+04</td>\n",
       "      <td>0.00000</td>\n",
       "      <td>512.000000</td>\n",
       "      <td>5.300000</td>\n",
       "      <td>400.000000</td>\n",
       "      <td>300.000000</td>\n",
       "      <td>0.000000e+00</td>\n",
       "      <td>10240.000000</td>\n",
       "      <td>0.000000</td>\n",
       "      <td>1.000000</td>\n",
       "      <td>5.000000</td>\n",
       "      <td>0.000000</td>\n",
       "      <td>0.0</td>\n",
       "      <td>2.000000</td>\n",
       "      <td>121.000000</td>\n",
       "      <td>0.000000</td>\n",
       "      <td>0.000000</td>\n",
       "      <td>0.000000</td>\n",
       "      <td>0.000000</td>\n",
       "      <td>0.000000</td>\n",
       "      <td>0.000000</td>\n",
       "      <td>1.000000</td>\n",
       "      <td>0.000000</td>\n",
       "    </tr>\n",
       "    <tr>\n",
       "      <th>25%</th>\n",
       "      <td>0.0</td>\n",
       "      <td>7.000000</td>\n",
       "      <td>0.000000</td>\n",
       "      <td>49480.000000</td>\n",
       "      <td>1.000000</td>\n",
       "      <td>1.000000</td>\n",
       "      <td>1.000000</td>\n",
       "      <td>51.000000</td>\n",
       "      <td>36694.000000</td>\n",
       "      <td>89.000000</td>\n",
       "      <td>74.000000</td>\n",
       "      <td>16299.000000</td>\n",
       "      <td>256.000000</td>\n",
       "      <td>1.000000</td>\n",
       "      <td>0.0</td>\n",
       "      <td>0.000000</td>\n",
       "      <td>111.000000</td>\n",
       "      <td>1.000000</td>\n",
       "      <td>1.000000</td>\n",
       "      <td>1443.000000</td>\n",
       "      <td>189586.000000</td>\n",
       "      <td>2.000000</td>\n",
       "      <td>5.000000</td>\n",
       "      <td>1998.000000</td>\n",
       "      <td>2.441980e+05</td>\n",
       "      <td>1.208410e+05</td>\n",
       "      <td>0.00000</td>\n",
       "      <td>4096.000000</td>\n",
       "      <td>13.900000</td>\n",
       "      <td>1366.000000</td>\n",
       "      <td>768.000000</td>\n",
       "      <td>0.000000e+00</td>\n",
       "      <td>16299.000000</td>\n",
       "      <td>167.000000</td>\n",
       "      <td>8.000000</td>\n",
       "      <td>31.000000</td>\n",
       "      <td>0.000000</td>\n",
       "      <td>0.0</td>\n",
       "      <td>142.000000</td>\n",
       "      <td>13020.000000</td>\n",
       "      <td>0.000000</td>\n",
       "      <td>0.000000</td>\n",
       "      <td>0.000000</td>\n",
       "      <td>0.000000</td>\n",
       "      <td>0.000000</td>\n",
       "      <td>0.000000</td>\n",
       "      <td>3.000000</td>\n",
       "      <td>0.000000</td>\n",
       "    </tr>\n",
       "    <tr>\n",
       "      <th>50%</th>\n",
       "      <td>0.0</td>\n",
       "      <td>7.000000</td>\n",
       "      <td>0.000000</td>\n",
       "      <td>53447.000000</td>\n",
       "      <td>1.000000</td>\n",
       "      <td>1.000000</td>\n",
       "      <td>1.000000</td>\n",
       "      <td>97.000000</td>\n",
       "      <td>82373.000000</td>\n",
       "      <td>181.000000</td>\n",
       "      <td>88.000000</td>\n",
       "      <td>16299.000000</td>\n",
       "      <td>768.000000</td>\n",
       "      <td>1.000000</td>\n",
       "      <td>0.0</td>\n",
       "      <td>0.000000</td>\n",
       "      <td>135.000000</td>\n",
       "      <td>1.000000</td>\n",
       "      <td>1.000000</td>\n",
       "      <td>2102.000000</td>\n",
       "      <td>246528.000000</td>\n",
       "      <td>4.000000</td>\n",
       "      <td>5.000000</td>\n",
       "      <td>2503.000000</td>\n",
       "      <td>4.769400e+05</td>\n",
       "      <td>2.567655e+05</td>\n",
       "      <td>0.00000</td>\n",
       "      <td>4096.000000</td>\n",
       "      <td>15.500000</td>\n",
       "      <td>1366.000000</td>\n",
       "      <td>768.000000</td>\n",
       "      <td>0.000000e+00</td>\n",
       "      <td>16299.000000</td>\n",
       "      <td>285.000000</td>\n",
       "      <td>9.000000</td>\n",
       "      <td>34.000000</td>\n",
       "      <td>0.000000</td>\n",
       "      <td>0.0</td>\n",
       "      <td>500.000000</td>\n",
       "      <td>33066.000000</td>\n",
       "      <td>0.000000</td>\n",
       "      <td>0.000000</td>\n",
       "      <td>0.000000</td>\n",
       "      <td>0.000000</td>\n",
       "      <td>0.000000</td>\n",
       "      <td>0.000000</td>\n",
       "      <td>10.000000</td>\n",
       "      <td>1.000000</td>\n",
       "    </tr>\n",
       "    <tr>\n",
       "      <th>75%</th>\n",
       "      <td>0.0</td>\n",
       "      <td>7.000000</td>\n",
       "      <td>0.000000</td>\n",
       "      <td>53447.000000</td>\n",
       "      <td>2.000000</td>\n",
       "      <td>1.000000</td>\n",
       "      <td>1.000000</td>\n",
       "      <td>162.000000</td>\n",
       "      <td>122835.000000</td>\n",
       "      <td>267.000000</td>\n",
       "      <td>182.000000</td>\n",
       "      <td>17134.000000</td>\n",
       "      <td>768.000000</td>\n",
       "      <td>1.000000</td>\n",
       "      <td>0.0</td>\n",
       "      <td>0.000000</td>\n",
       "      <td>137.000000</td>\n",
       "      <td>1.000000</td>\n",
       "      <td>1.000000</td>\n",
       "      <td>2668.000000</td>\n",
       "      <td>302767.000000</td>\n",
       "      <td>4.000000</td>\n",
       "      <td>5.000000</td>\n",
       "      <td>2867.000000</td>\n",
       "      <td>9.538690e+05</td>\n",
       "      <td>4.761020e+05</td>\n",
       "      <td>0.00000</td>\n",
       "      <td>8192.000000</td>\n",
       "      <td>17.200000</td>\n",
       "      <td>1920.000000</td>\n",
       "      <td>1080.000000</td>\n",
       "      <td>4.294967e+09</td>\n",
       "      <td>17134.000000</td>\n",
       "      <td>547.000000</td>\n",
       "      <td>20.000000</td>\n",
       "      <td>83.000000</td>\n",
       "      <td>0.000000</td>\n",
       "      <td>0.0</td>\n",
       "      <td>556.000000</td>\n",
       "      <td>52357.000000</td>\n",
       "      <td>1.000000</td>\n",
       "      <td>0.000000</td>\n",
       "      <td>0.000000</td>\n",
       "      <td>0.000000</td>\n",
       "      <td>0.000000</td>\n",
       "      <td>1.000000</td>\n",
       "      <td>11.000000</td>\n",
       "      <td>1.000000</td>\n",
       "    </tr>\n",
       "    <tr>\n",
       "      <th>max</th>\n",
       "      <td>0.0</td>\n",
       "      <td>8.000000</td>\n",
       "      <td>1.000000</td>\n",
       "      <td>70490.000000</td>\n",
       "      <td>5.000000</td>\n",
       "      <td>4.000000</td>\n",
       "      <td>1.000000</td>\n",
       "      <td>222.000000</td>\n",
       "      <td>167957.000000</td>\n",
       "      <td>296.000000</td>\n",
       "      <td>283.000000</td>\n",
       "      <td>17763.000000</td>\n",
       "      <td>784.000000</td>\n",
       "      <td>1.000000</td>\n",
       "      <td>0.0</td>\n",
       "      <td>1.000000</td>\n",
       "      <td>429.000000</td>\n",
       "      <td>1.000000</td>\n",
       "      <td>48.000000</td>\n",
       "      <td>6062.000000</td>\n",
       "      <td>345324.000000</td>\n",
       "      <td>64.000000</td>\n",
       "      <td>10.000000</td>\n",
       "      <td>4478.000000</td>\n",
       "      <td>7.630885e+06</td>\n",
       "      <td>6.630319e+06</td>\n",
       "      <td>1.00000</td>\n",
       "      <td>262144.000000</td>\n",
       "      <td>142.000000</td>\n",
       "      <td>7680.000000</td>\n",
       "      <td>3840.000000</td>\n",
       "      <td>4.294967e+09</td>\n",
       "      <td>17763.000000</td>\n",
       "      <td>17976.000000</td>\n",
       "      <td>39.000000</td>\n",
       "      <td>162.000000</td>\n",
       "      <td>1.000000</td>\n",
       "      <td>0.0</td>\n",
       "      <td>1083.000000</td>\n",
       "      <td>72091.000000</td>\n",
       "      <td>1.000000</td>\n",
       "      <td>1.000000</td>\n",
       "      <td>1.000000</td>\n",
       "      <td>1.000000</td>\n",
       "      <td>1.000000</td>\n",
       "      <td>1.000000</td>\n",
       "      <td>15.000000</td>\n",
       "      <td>1.000000</td>\n",
       "    </tr>\n",
       "  </tbody>\n",
       "</table>\n",
       "</div>"
      ],
      "text/plain": [
       "       IsBetaUser  RealTimeProtectionState  IsPassiveModeEnabled  \\\n",
       "count    100000.0             99934.000000         100000.000000   \n",
       "mean          0.0                 6.848430              0.017620   \n",
       "std           0.0                 1.015166              0.131566   \n",
       "min           0.0                 0.000000              0.000000   \n",
       "25%           0.0                 7.000000              0.000000   \n",
       "50%           0.0                 7.000000              0.000000   \n",
       "75%           0.0                 7.000000              0.000000   \n",
       "max           0.0                 8.000000              1.000000   \n",
       "\n",
       "       AntivirusConfigID  NumAntivirusProductsInstalled  \\\n",
       "count       99924.000000                   99924.000000   \n",
       "mean        47975.710440                       1.326528   \n",
       "std         13803.321533                       0.520681   \n",
       "min            39.000000                       1.000000   \n",
       "25%         49480.000000                       1.000000   \n",
       "50%         53447.000000                       1.000000   \n",
       "75%         53447.000000                       2.000000   \n",
       "max         70490.000000                       5.000000   \n",
       "\n",
       "       NumAntivirusProductsEnabled         HasTpm      CountryID  \\\n",
       "count                 99924.000000  100000.000000  100000.000000   \n",
       "mean                      1.018264       0.996780     108.078790   \n",
       "std                       0.155291       0.056654      63.062151   \n",
       "min                       0.000000       0.000000       1.000000   \n",
       "25%                       1.000000       1.000000      51.000000   \n",
       "50%                       1.000000       1.000000      97.000000   \n",
       "75%                       1.000000       1.000000     162.000000   \n",
       "max                       4.000000       1.000000     222.000000   \n",
       "\n",
       "              CityID    GeoRegionID  LocaleEnglishNameID  OSBuildNumber  \\\n",
       "count   99377.000000  100000.000000        100000.000000  100000.000000   \n",
       "mean    81029.938587     169.741630           122.695100   15917.208720   \n",
       "std     48944.027074      89.188929            69.242252    1943.421132   \n",
       "min         7.000000       1.000000             1.000000    7601.000000   \n",
       "25%     36694.000000      89.000000            74.000000   16299.000000   \n",
       "50%     82373.000000     181.000000            88.000000   16299.000000   \n",
       "75%    122835.000000     267.000000           182.000000   17134.000000   \n",
       "max    167957.000000     296.000000           283.000000   17763.000000   \n",
       "\n",
       "       OSProductSuite  IsSystemProtected  AutoSampleSubmissionEnabled  \\\n",
       "count   100000.000000       99924.000000                     100000.0   \n",
       "mean       578.403380           0.955326                          0.0   \n",
       "std        247.240971           0.206588                          0.0   \n",
       "min         16.000000           0.000000                          0.0   \n",
       "25%        256.000000           1.000000                          0.0   \n",
       "50%        768.000000           1.000000                          0.0   \n",
       "75%        768.000000           1.000000                          0.0   \n",
       "max        784.000000           1.000000                          0.0   \n",
       "\n",
       "              SMode   IEVersionID  FirewallEnabled     EnableLUA  \\\n",
       "count  99019.000000  99893.000000     99834.000000  99981.000000   \n",
       "mean       0.000505    124.053848         0.980067      0.996569   \n",
       "std        0.022466     33.535395         0.139771      0.266669   \n",
       "min        0.000000     39.000000         0.000000      0.000000   \n",
       "25%        0.000000    111.000000         1.000000      1.000000   \n",
       "50%        0.000000    135.000000         1.000000      1.000000   \n",
       "75%        0.000000    137.000000         1.000000      1.000000   \n",
       "max        1.000000    429.000000         1.000000     48.000000   \n",
       "\n",
       "          OEMNameID     OEMModelID  ProcessorCoreCount  \\\n",
       "count  99788.000000   99772.000000        99915.000000   \n",
       "mean    2209.573265  238780.914154            4.011500   \n",
       "std     1300.863891   71708.483379            2.033075   \n",
       "min       46.000000      22.000000            1.000000   \n",
       "25%     1443.000000  189586.000000            2.000000   \n",
       "50%     2102.000000  246528.000000            4.000000   \n",
       "75%     2668.000000  302767.000000            4.000000   \n",
       "max     6062.000000  345324.000000           64.000000   \n",
       "\n",
       "       ProcessorManufacturerID  ProcessorModelID  PrimaryDiskCapacityMB  \\\n",
       "count             99915.000000      99915.000000           9.989000e+04   \n",
       "mean                  4.530711       2367.693069           5.158619e+05   \n",
       "std                   1.288050        837.822392           3.525624e+05   \n",
       "min                   1.000000          3.000000           1.228800e+04   \n",
       "25%                   5.000000       1998.000000           2.441980e+05   \n",
       "50%                   5.000000       2503.000000           4.769400e+05   \n",
       "75%                   5.000000       2867.000000           9.538690e+05   \n",
       "max                  10.000000       4478.000000           7.630885e+06   \n",
       "\n",
       "       SystemVolumeCapacityMB  HasOpticalDiskDrive  TotalPhysicalRAMMB  \\\n",
       "count            9.989000e+04         100000.00000        99849.000000   \n",
       "mean             3.819905e+05              0.08140         6132.087442   \n",
       "std              3.246240e+05              0.27345         4813.882548   \n",
       "min              1.088000e+04              0.00000          512.000000   \n",
       "25%              1.208410e+05              0.00000         4096.000000   \n",
       "50%              2.567655e+05              0.00000         4096.000000   \n",
       "75%              4.761020e+05              0.00000         8192.000000   \n",
       "max              6.630319e+06              1.00000       262144.000000   \n",
       "\n",
       "       PrimaryDisplayDiagonalInches  PrimaryDisplayResolutionHorizontal  \\\n",
       "count                  99928.000000                        99928.000000   \n",
       "mean                      16.708674                         1552.230416   \n",
       "std                        6.031598                          363.438980   \n",
       "min                        5.300000                          400.000000   \n",
       "25%                       13.900000                         1366.000000   \n",
       "50%                       15.500000                         1366.000000   \n",
       "75%                       17.200000                         1920.000000   \n",
       "max                      142.000000                         7680.000000   \n",
       "\n",
       "       PrimaryDisplayResolutionVertical  InternalBatteryNumberOfCharges  \\\n",
       "count                      99928.000000                    9.948500e+04   \n",
       "mean                         898.253192                    1.118069e+09   \n",
       "std                          213.695880                    1.884682e+09   \n",
       "min                          300.000000                    0.000000e+00   \n",
       "25%                          768.000000                    0.000000e+00   \n",
       "50%                          768.000000                    0.000000e+00   \n",
       "75%                         1080.000000                    4.294967e+09   \n",
       "max                         3840.000000                    4.294967e+09   \n",
       "\n",
       "       OSBuildNumberOnly  OSBuildRevisionOnly  OSInstallLanguageID  \\\n",
       "count      100000.000000        100000.000000         99887.000000   \n",
       "mean        15990.596350           986.531360            14.519267   \n",
       "std          1810.756601          2971.429862            10.142233   \n",
       "min         10240.000000             0.000000             1.000000   \n",
       "25%         16299.000000           167.000000             8.000000   \n",
       "50%         16299.000000           285.000000             9.000000   \n",
       "75%         17134.000000           547.000000            20.000000   \n",
       "max         17763.000000         17976.000000            39.000000   \n",
       "\n",
       "        OSUILocaleID   IsPortableOS  IsFlightsDisabled  \\\n",
       "count  100000.000000  100000.000000            99674.0   \n",
       "mean       60.030870       0.000520                0.0   \n",
       "std        44.715508       0.022798                0.0   \n",
       "min         5.000000       0.000000                0.0   \n",
       "25%        31.000000       0.000000                0.0   \n",
       "50%        34.000000       0.000000                0.0   \n",
       "75%        83.000000       0.000000                0.0   \n",
       "max       162.000000       1.000000                0.0   \n",
       "\n",
       "       FirmwareManufacturerID  FirmwareVersionID  IsSecureBootEnabled  \\\n",
       "count            99624.000000       99666.000000        100000.000000   \n",
       "mean               401.987613       32942.648044             0.495690   \n",
       "std                221.318891       21151.970827             0.499984   \n",
       "min                  2.000000         121.000000             0.000000   \n",
       "25%                142.000000       13020.000000             0.000000   \n",
       "50%                500.000000       33066.000000             0.000000   \n",
       "75%                556.000000       52357.000000             1.000000   \n",
       "max               1083.000000       72091.000000             1.000000   \n",
       "\n",
       "       IsVirtualDevice  IsTouchEnabled   IsPenCapable  \\\n",
       "count     99980.000000   100000.000000  100000.000000   \n",
       "mean          0.003841        0.128470       0.040580   \n",
       "std           0.061855        0.334614       0.197316   \n",
       "min           0.000000        0.000000       0.000000   \n",
       "25%           0.000000        0.000000       0.000000   \n",
       "50%           0.000000        0.000000       0.000000   \n",
       "75%           0.000000        0.000000       0.000000   \n",
       "max           1.000000        1.000000       1.000000   \n",
       "\n",
       "       IsAlwaysOnAlwaysConnectedCapable       IsGamer  RegionIdentifier  \\\n",
       "count                      99866.000000  99441.000000      99441.000000   \n",
       "mean                           0.058398      0.296668          7.875866   \n",
       "std                            0.234496      0.456791          4.562533   \n",
       "min                            0.000000      0.000000          1.000000   \n",
       "25%                            0.000000      0.000000          3.000000   \n",
       "50%                            0.000000      0.000000         10.000000   \n",
       "75%                            0.000000      1.000000         11.000000   \n",
       "max                            1.000000      1.000000         15.000000   \n",
       "\n",
       "              target  \n",
       "count  100000.000000  \n",
       "mean        0.505250  \n",
       "std         0.499975  \n",
       "min         0.000000  \n",
       "25%         0.000000  \n",
       "50%         1.000000  \n",
       "75%         1.000000  \n",
       "max         1.000000  "
      ]
     },
     "execution_count": 4,
     "metadata": {},
     "output_type": "execute_result"
    }
   ],
   "source": [
    "df_train.describe()"
   ]
  },
  {
   "cell_type": "code",
   "execution_count": 5,
   "id": "348f004c",
   "metadata": {
    "execution": {
     "iopub.execute_input": "2025-03-19T13:56:11.759561Z",
     "iopub.status.busy": "2025-03-19T13:56:11.759121Z",
     "iopub.status.idle": "2025-03-19T13:56:11.764567Z",
     "shell.execute_reply": "2025-03-19T13:56:11.763499Z"
    },
    "papermill": {
     "duration": 0.019691,
     "end_time": "2025-03-19T13:56:11.766053",
     "exception": false,
     "start_time": "2025-03-19T13:56:11.746362",
     "status": "completed"
    },
    "tags": []
   },
   "outputs": [
    {
     "data": {
      "text/plain": [
       "(10000, 74)"
      ]
     },
     "execution_count": 5,
     "metadata": {},
     "output_type": "execute_result"
    }
   ],
   "source": [
    "df_test.shape"
   ]
  },
  {
   "cell_type": "code",
   "execution_count": 6,
   "id": "a38609ff",
   "metadata": {
    "execution": {
     "iopub.execute_input": "2025-03-19T13:56:11.791361Z",
     "iopub.status.busy": "2025-03-19T13:56:11.791018Z",
     "iopub.status.idle": "2025-03-19T13:56:11.796866Z",
     "shell.execute_reply": "2025-03-19T13:56:11.796029Z"
    },
    "papermill": {
     "duration": 0.020257,
     "end_time": "2025-03-19T13:56:11.798331",
     "exception": false,
     "start_time": "2025-03-19T13:56:11.778074",
     "status": "completed"
    },
    "tags": []
   },
   "outputs": [
    {
     "data": {
      "text/plain": [
       "Index(['ProductName', 'EngineVersion', 'AppVersion', 'SignatureVersion',\n",
       "       'IsBetaUser', 'RealTimeProtectionState', 'IsPassiveModeEnabled',\n",
       "       'AntivirusConfigID', 'NumAntivirusProductsInstalled',\n",
       "       'NumAntivirusProductsEnabled', 'HasTpm', 'CountryID', 'CityID',\n",
       "       'GeoRegionID', 'LocaleEnglishNameID', 'PlatformType', 'Processor',\n",
       "       'OSVersion', 'OSBuildNumber', 'OSProductSuite', 'OsPlatformSubRelease',\n",
       "       'OSBuildLab', 'SKUEditionName', 'IsSystemProtected',\n",
       "       'AutoSampleSubmissionEnabled', 'SMode', 'IEVersionID',\n",
       "       'FirewallEnabled', 'EnableLUA', 'MDC2FormFactor', 'DeviceFamily',\n",
       "       'OEMNameID', 'OEMModelID', 'ProcessorCoreCount',\n",
       "       'ProcessorManufacturerID', 'ProcessorModelID', 'PrimaryDiskCapacityMB',\n",
       "       'PrimaryDiskType', 'SystemVolumeCapacityMB', 'HasOpticalDiskDrive',\n",
       "       'TotalPhysicalRAMMB', 'ChassisType', 'PrimaryDisplayDiagonalInches',\n",
       "       'PrimaryDisplayResolutionHorizontal',\n",
       "       'PrimaryDisplayResolutionVertical', 'PowerPlatformRole',\n",
       "       'InternalBatteryNumberOfCharges', 'NumericOSVersion', 'OSArchitecture',\n",
       "       'OSBranch', 'OSBuildNumberOnly', 'OSBuildRevisionOnly', 'OSEdition',\n",
       "       'OSSkuFriendlyName', 'OSInstallType', 'OSInstallLanguageID',\n",
       "       'OSUILocaleID', 'AutoUpdateOptionsName', 'IsPortableOS',\n",
       "       'OSGenuineState', 'LicenseActivationChannel', 'IsFlightsDisabled',\n",
       "       'FlightRing', 'FirmwareManufacturerID', 'FirmwareVersionID',\n",
       "       'IsSecureBootEnabled', 'IsVirtualDevice', 'IsTouchEnabled',\n",
       "       'IsPenCapable', 'IsAlwaysOnAlwaysConnectedCapable', 'IsGamer',\n",
       "       'RegionIdentifier', 'DateAS', 'DateOS', 'target'],\n",
       "      dtype='object')"
      ]
     },
     "execution_count": 6,
     "metadata": {},
     "output_type": "execute_result"
    }
   ],
   "source": [
    "df_train.columns"
   ]
  },
  {
   "cell_type": "code",
   "execution_count": 7,
   "id": "03fc882a",
   "metadata": {
    "execution": {
     "iopub.execute_input": "2025-03-19T13:56:11.824102Z",
     "iopub.status.busy": "2025-03-19T13:56:11.823724Z",
     "iopub.status.idle": "2025-03-19T13:56:11.989461Z",
     "shell.execute_reply": "2025-03-19T13:56:11.988052Z"
    },
    "papermill": {
     "duration": 0.180571,
     "end_time": "2025-03-19T13:56:11.991362",
     "exception": false,
     "start_time": "2025-03-19T13:56:11.810791",
     "status": "completed"
    },
    "tags": []
   },
   "outputs": [
    {
     "name": "stdout",
     "output_type": "stream",
     "text": [
      "<class 'pandas.core.frame.DataFrame'>\n",
      "RangeIndex: 100000 entries, 0 to 99999\n",
      "Data columns (total 75 columns):\n",
      " #   Column                              Non-Null Count   Dtype  \n",
      "---  ------                              --------------   -----  \n",
      " 0   ProductName                         100000 non-null  object \n",
      " 1   EngineVersion                       100000 non-null  object \n",
      " 2   AppVersion                          100000 non-null  object \n",
      " 3   SignatureVersion                    100000 non-null  object \n",
      " 4   IsBetaUser                          100000 non-null  int64  \n",
      " 5   RealTimeProtectionState             99934 non-null   float64\n",
      " 6   IsPassiveModeEnabled                100000 non-null  int64  \n",
      " 7   AntivirusConfigID                   99924 non-null   float64\n",
      " 8   NumAntivirusProductsInstalled       99924 non-null   float64\n",
      " 9   NumAntivirusProductsEnabled         99924 non-null   float64\n",
      " 10  HasTpm                              100000 non-null  int64  \n",
      " 11  CountryID                           100000 non-null  int64  \n",
      " 12  CityID                              99377 non-null   float64\n",
      " 13  GeoRegionID                         100000 non-null  float64\n",
      " 14  LocaleEnglishNameID                 100000 non-null  int64  \n",
      " 15  PlatformType                        100000 non-null  object \n",
      " 16  Processor                           100000 non-null  object \n",
      " 17  OSVersion                           100000 non-null  object \n",
      " 18  OSBuildNumber                       100000 non-null  int64  \n",
      " 19  OSProductSuite                      100000 non-null  int64  \n",
      " 20  OsPlatformSubRelease                100000 non-null  object \n",
      " 21  OSBuildLab                          100000 non-null  object \n",
      " 22  SKUEditionName                      100000 non-null  object \n",
      " 23  IsSystemProtected                   99924 non-null   float64\n",
      " 24  AutoSampleSubmissionEnabled         100000 non-null  int64  \n",
      " 25  SMode                               99019 non-null   float64\n",
      " 26  IEVersionID                         99893 non-null   float64\n",
      " 27  FirewallEnabled                     99834 non-null   float64\n",
      " 28  EnableLUA                           99981 non-null   float64\n",
      " 29  MDC2FormFactor                      100000 non-null  object \n",
      " 30  DeviceFamily                        100000 non-null  object \n",
      " 31  OEMNameID                           99788 non-null   float64\n",
      " 32  OEMModelID                          99772 non-null   float64\n",
      " 33  ProcessorCoreCount                  99915 non-null   float64\n",
      " 34  ProcessorManufacturerID             99915 non-null   float64\n",
      " 35  ProcessorModelID                    99915 non-null   float64\n",
      " 36  PrimaryDiskCapacityMB               99890 non-null   float64\n",
      " 37  PrimaryDiskType                     99977 non-null   object \n",
      " 38  SystemVolumeCapacityMB              99890 non-null   float64\n",
      " 39  HasOpticalDiskDrive                 100000 non-null  int64  \n",
      " 40  TotalPhysicalRAMMB                  99849 non-null   float64\n",
      " 41  ChassisType                         99998 non-null   object \n",
      " 42  PrimaryDisplayDiagonalInches        99928 non-null   float64\n",
      " 43  PrimaryDisplayResolutionHorizontal  99928 non-null   float64\n",
      " 44  PrimaryDisplayResolutionVertical    99928 non-null   float64\n",
      " 45  PowerPlatformRole                   100000 non-null  object \n",
      " 46  InternalBatteryNumberOfCharges      99485 non-null   float64\n",
      " 47  NumericOSVersion                    100000 non-null  object \n",
      " 48  OSArchitecture                      100000 non-null  object \n",
      " 49  OSBranch                            100000 non-null  object \n",
      " 50  OSBuildNumberOnly                   100000 non-null  int64  \n",
      " 51  OSBuildRevisionOnly                 100000 non-null  int64  \n",
      " 52  OSEdition                           100000 non-null  object \n",
      " 53  OSSkuFriendlyName                   100000 non-null  object \n",
      " 54  OSInstallType                       100000 non-null  object \n",
      " 55  OSInstallLanguageID                 99887 non-null   float64\n",
      " 56  OSUILocaleID                        100000 non-null  int64  \n",
      " 57  AutoUpdateOptionsName               100000 non-null  object \n",
      " 58  IsPortableOS                        100000 non-null  int64  \n",
      " 59  OSGenuineState                      100000 non-null  object \n",
      " 60  LicenseActivationChannel            100000 non-null  object \n",
      " 61  IsFlightsDisabled                   99674 non-null   float64\n",
      " 62  FlightRing                          100000 non-null  object \n",
      " 63  FirmwareManufacturerID              99624 non-null   float64\n",
      " 64  FirmwareVersionID                   99666 non-null   float64\n",
      " 65  IsSecureBootEnabled                 100000 non-null  int64  \n",
      " 66  IsVirtualDevice                     99980 non-null   float64\n",
      " 67  IsTouchEnabled                      100000 non-null  int64  \n",
      " 68  IsPenCapable                        100000 non-null  int64  \n",
      " 69  IsAlwaysOnAlwaysConnectedCapable    99866 non-null   float64\n",
      " 70  IsGamer                             99441 non-null   float64\n",
      " 71  RegionIdentifier                    99441 non-null   float64\n",
      " 72  DateAS                              100000 non-null  object \n",
      " 73  DateOS                              99976 non-null   object \n",
      " 74  target                              100000 non-null  int64  \n",
      "dtypes: float64(31), int64(17), object(27)\n",
      "memory usage: 57.2+ MB\n"
     ]
    }
   ],
   "source": [
    "df_train.info()"
   ]
  },
  {
   "cell_type": "markdown",
   "id": "5446c991",
   "metadata": {
    "papermill": {
     "duration": 0.01241,
     "end_time": "2025-03-19T13:56:12.016260",
     "exception": false,
     "start_time": "2025-03-19T13:56:12.003850",
     "status": "completed"
    },
    "tags": []
   },
   "source": [
    "# Data Cleaning and EDA"
   ]
  },
  {
   "cell_type": "code",
   "execution_count": 8,
   "id": "bce15546",
   "metadata": {
    "execution": {
     "iopub.execute_input": "2025-03-19T13:56:12.042230Z",
     "iopub.status.busy": "2025-03-19T13:56:12.041890Z",
     "iopub.status.idle": "2025-03-19T13:56:12.189176Z",
     "shell.execute_reply": "2025-03-19T13:56:12.188212Z"
    },
    "papermill": {
     "duration": 0.161982,
     "end_time": "2025-03-19T13:56:12.190913",
     "exception": false,
     "start_time": "2025-03-19T13:56:12.028931",
     "status": "completed"
    },
    "tags": []
   },
   "outputs": [
    {
     "data": {
      "text/plain": [
       "ProductName           0\n",
       "EngineVersion         0\n",
       "AppVersion            0\n",
       "SignatureVersion      0\n",
       "IsBetaUser            0\n",
       "                   ... \n",
       "IsGamer             559\n",
       "RegionIdentifier    559\n",
       "DateAS                0\n",
       "DateOS               24\n",
       "target                0\n",
       "Length: 75, dtype: int64"
      ]
     },
     "execution_count": 8,
     "metadata": {},
     "output_type": "execute_result"
    }
   ],
   "source": [
    "df_train.isnull().sum()"
   ]
  },
  {
   "cell_type": "code",
   "execution_count": 9,
   "id": "5d8688ae",
   "metadata": {
    "execution": {
     "iopub.execute_input": "2025-03-19T13:56:12.217289Z",
     "iopub.status.busy": "2025-03-19T13:56:12.216930Z",
     "iopub.status.idle": "2025-03-19T13:56:12.230443Z",
     "shell.execute_reply": "2025-03-19T13:56:12.229493Z"
    },
    "papermill": {
     "duration": 0.028525,
     "end_time": "2025-03-19T13:56:12.232334",
     "exception": false,
     "start_time": "2025-03-19T13:56:12.203809",
     "status": "completed"
    },
    "tags": []
   },
   "outputs": [],
   "source": [
    "num_train_ = df_train.select_dtypes(include=['int64','float64'])\n",
    "num_test_ = df_test.select_dtypes(include=['int64','float64'])"
   ]
  },
  {
   "cell_type": "code",
   "execution_count": 10,
   "id": "d0c01170",
   "metadata": {
    "execution": {
     "iopub.execute_input": "2025-03-19T13:56:12.258458Z",
     "iopub.status.busy": "2025-03-19T13:56:12.258069Z",
     "iopub.status.idle": "2025-03-19T13:56:12.392715Z",
     "shell.execute_reply": "2025-03-19T13:56:12.391746Z"
    },
    "papermill": {
     "duration": 0.149672,
     "end_time": "2025-03-19T13:56:12.394513",
     "exception": false,
     "start_time": "2025-03-19T13:56:12.244841",
     "status": "completed"
    },
    "tags": []
   },
   "outputs": [],
   "source": [
    "num_train_less_2 = num_train_.nunique()[num_train_.nunique() < 3].index.tolist()\n",
    "num_test_less_2 = num_test_.nunique()[num_test_.nunique() < 3].index.tolist()"
   ]
  },
  {
   "cell_type": "code",
   "execution_count": 11,
   "id": "614a2970",
   "metadata": {
    "execution": {
     "iopub.execute_input": "2025-03-19T13:56:12.422025Z",
     "iopub.status.busy": "2025-03-19T13:56:12.421690Z",
     "iopub.status.idle": "2025-03-19T13:56:12.463411Z",
     "shell.execute_reply": "2025-03-19T13:56:12.462356Z"
    },
    "papermill": {
     "duration": 0.058762,
     "end_time": "2025-03-19T13:56:12.465918",
     "exception": false,
     "start_time": "2025-03-19T13:56:12.407156",
     "status": "completed"
    },
    "tags": []
   },
   "outputs": [
    {
     "name": "stderr",
     "output_type": "stream",
     "text": [
      "<ipython-input-11-b60f838716d1>:3: FutureWarning: A value is trying to be set on a copy of a DataFrame or Series through chained assignment using an inplace method.\n",
      "The behavior will change in pandas 3.0. This inplace method will never work because the intermediate object on which we are setting values always behaves as a copy.\n",
      "\n",
      "For example, when doing 'df[col].method(value, inplace=True)', try using 'df.method({col: value}, inplace=True)' or df[col] = df[col].method(value) instead, to perform the operation inplace on the original object.\n",
      "\n",
      "\n",
      "  df_train[col].fillna(df_train[col].mode()[0], inplace=True)\n",
      "<ipython-input-11-b60f838716d1>:3: FutureWarning: A value is trying to be set on a copy of a DataFrame or Series through chained assignment using an inplace method.\n",
      "The behavior will change in pandas 3.0. This inplace method will never work because the intermediate object on which we are setting values always behaves as a copy.\n",
      "\n",
      "For example, when doing 'df[col].method(value, inplace=True)', try using 'df.method({col: value}, inplace=True)' or df[col] = df[col].method(value) instead, to perform the operation inplace on the original object.\n",
      "\n",
      "\n",
      "  df_train[col].fillna(df_train[col].mode()[0], inplace=True)\n",
      "<ipython-input-11-b60f838716d1>:3: FutureWarning: A value is trying to be set on a copy of a DataFrame or Series through chained assignment using an inplace method.\n",
      "The behavior will change in pandas 3.0. This inplace method will never work because the intermediate object on which we are setting values always behaves as a copy.\n",
      "\n",
      "For example, when doing 'df[col].method(value, inplace=True)', try using 'df.method({col: value}, inplace=True)' or df[col] = df[col].method(value) instead, to perform the operation inplace on the original object.\n",
      "\n",
      "\n",
      "  df_train[col].fillna(df_train[col].mode()[0], inplace=True)\n",
      "<ipython-input-11-b60f838716d1>:3: FutureWarning: A value is trying to be set on a copy of a DataFrame or Series through chained assignment using an inplace method.\n",
      "The behavior will change in pandas 3.0. This inplace method will never work because the intermediate object on which we are setting values always behaves as a copy.\n",
      "\n",
      "For example, when doing 'df[col].method(value, inplace=True)', try using 'df.method({col: value}, inplace=True)' or df[col] = df[col].method(value) instead, to perform the operation inplace on the original object.\n",
      "\n",
      "\n",
      "  df_train[col].fillna(df_train[col].mode()[0], inplace=True)\n",
      "<ipython-input-11-b60f838716d1>:3: FutureWarning: A value is trying to be set on a copy of a DataFrame or Series through chained assignment using an inplace method.\n",
      "The behavior will change in pandas 3.0. This inplace method will never work because the intermediate object on which we are setting values always behaves as a copy.\n",
      "\n",
      "For example, when doing 'df[col].method(value, inplace=True)', try using 'df.method({col: value}, inplace=True)' or df[col] = df[col].method(value) instead, to perform the operation inplace on the original object.\n",
      "\n",
      "\n",
      "  df_train[col].fillna(df_train[col].mode()[0], inplace=True)\n",
      "<ipython-input-11-b60f838716d1>:3: FutureWarning: A value is trying to be set on a copy of a DataFrame or Series through chained assignment using an inplace method.\n",
      "The behavior will change in pandas 3.0. This inplace method will never work because the intermediate object on which we are setting values always behaves as a copy.\n",
      "\n",
      "For example, when doing 'df[col].method(value, inplace=True)', try using 'df.method({col: value}, inplace=True)' or df[col] = df[col].method(value) instead, to perform the operation inplace on the original object.\n",
      "\n",
      "\n",
      "  df_train[col].fillna(df_train[col].mode()[0], inplace=True)\n",
      "<ipython-input-11-b60f838716d1>:3: FutureWarning: A value is trying to be set on a copy of a DataFrame or Series through chained assignment using an inplace method.\n",
      "The behavior will change in pandas 3.0. This inplace method will never work because the intermediate object on which we are setting values always behaves as a copy.\n",
      "\n",
      "For example, when doing 'df[col].method(value, inplace=True)', try using 'df.method({col: value}, inplace=True)' or df[col] = df[col].method(value) instead, to perform the operation inplace on the original object.\n",
      "\n",
      "\n",
      "  df_train[col].fillna(df_train[col].mode()[0], inplace=True)\n",
      "<ipython-input-11-b60f838716d1>:3: FutureWarning: A value is trying to be set on a copy of a DataFrame or Series through chained assignment using an inplace method.\n",
      "The behavior will change in pandas 3.0. This inplace method will never work because the intermediate object on which we are setting values always behaves as a copy.\n",
      "\n",
      "For example, when doing 'df[col].method(value, inplace=True)', try using 'df.method({col: value}, inplace=True)' or df[col] = df[col].method(value) instead, to perform the operation inplace on the original object.\n",
      "\n",
      "\n",
      "  df_train[col].fillna(df_train[col].mode()[0], inplace=True)\n",
      "<ipython-input-11-b60f838716d1>:3: FutureWarning: A value is trying to be set on a copy of a DataFrame or Series through chained assignment using an inplace method.\n",
      "The behavior will change in pandas 3.0. This inplace method will never work because the intermediate object on which we are setting values always behaves as a copy.\n",
      "\n",
      "For example, when doing 'df[col].method(value, inplace=True)', try using 'df.method({col: value}, inplace=True)' or df[col] = df[col].method(value) instead, to perform the operation inplace on the original object.\n",
      "\n",
      "\n",
      "  df_train[col].fillna(df_train[col].mode()[0], inplace=True)\n",
      "<ipython-input-11-b60f838716d1>:6: FutureWarning: A value is trying to be set on a copy of a DataFrame or Series through chained assignment using an inplace method.\n",
      "The behavior will change in pandas 3.0. This inplace method will never work because the intermediate object on which we are setting values always behaves as a copy.\n",
      "\n",
      "For example, when doing 'df[col].method(value, inplace=True)', try using 'df.method({col: value}, inplace=True)' or df[col] = df[col].method(value) instead, to perform the operation inplace on the original object.\n",
      "\n",
      "\n",
      "  df_test[col].fillna(df_test[col].mode()[0], inplace=True)\n",
      "<ipython-input-11-b60f838716d1>:6: FutureWarning: A value is trying to be set on a copy of a DataFrame or Series through chained assignment using an inplace method.\n",
      "The behavior will change in pandas 3.0. This inplace method will never work because the intermediate object on which we are setting values always behaves as a copy.\n",
      "\n",
      "For example, when doing 'df[col].method(value, inplace=True)', try using 'df.method({col: value}, inplace=True)' or df[col] = df[col].method(value) instead, to perform the operation inplace on the original object.\n",
      "\n",
      "\n",
      "  df_test[col].fillna(df_test[col].mode()[0], inplace=True)\n",
      "<ipython-input-11-b60f838716d1>:6: FutureWarning: A value is trying to be set on a copy of a DataFrame or Series through chained assignment using an inplace method.\n",
      "The behavior will change in pandas 3.0. This inplace method will never work because the intermediate object on which we are setting values always behaves as a copy.\n",
      "\n",
      "For example, when doing 'df[col].method(value, inplace=True)', try using 'df.method({col: value}, inplace=True)' or df[col] = df[col].method(value) instead, to perform the operation inplace on the original object.\n",
      "\n",
      "\n",
      "  df_test[col].fillna(df_test[col].mode()[0], inplace=True)\n",
      "<ipython-input-11-b60f838716d1>:6: FutureWarning: A value is trying to be set on a copy of a DataFrame or Series through chained assignment using an inplace method.\n",
      "The behavior will change in pandas 3.0. This inplace method will never work because the intermediate object on which we are setting values always behaves as a copy.\n",
      "\n",
      "For example, when doing 'df[col].method(value, inplace=True)', try using 'df.method({col: value}, inplace=True)' or df[col] = df[col].method(value) instead, to perform the operation inplace on the original object.\n",
      "\n",
      "\n",
      "  df_test[col].fillna(df_test[col].mode()[0], inplace=True)\n",
      "<ipython-input-11-b60f838716d1>:6: FutureWarning: A value is trying to be set on a copy of a DataFrame or Series through chained assignment using an inplace method.\n",
      "The behavior will change in pandas 3.0. This inplace method will never work because the intermediate object on which we are setting values always behaves as a copy.\n",
      "\n",
      "For example, when doing 'df[col].method(value, inplace=True)', try using 'df.method({col: value}, inplace=True)' or df[col] = df[col].method(value) instead, to perform the operation inplace on the original object.\n",
      "\n",
      "\n",
      "  df_test[col].fillna(df_test[col].mode()[0], inplace=True)\n",
      "<ipython-input-11-b60f838716d1>:6: FutureWarning: A value is trying to be set on a copy of a DataFrame or Series through chained assignment using an inplace method.\n",
      "The behavior will change in pandas 3.0. This inplace method will never work because the intermediate object on which we are setting values always behaves as a copy.\n",
      "\n",
      "For example, when doing 'df[col].method(value, inplace=True)', try using 'df.method({col: value}, inplace=True)' or df[col] = df[col].method(value) instead, to perform the operation inplace on the original object.\n",
      "\n",
      "\n",
      "  df_test[col].fillna(df_test[col].mode()[0], inplace=True)\n",
      "<ipython-input-11-b60f838716d1>:6: FutureWarning: A value is trying to be set on a copy of a DataFrame or Series through chained assignment using an inplace method.\n",
      "The behavior will change in pandas 3.0. This inplace method will never work because the intermediate object on which we are setting values always behaves as a copy.\n",
      "\n",
      "For example, when doing 'df[col].method(value, inplace=True)', try using 'df.method({col: value}, inplace=True)' or df[col] = df[col].method(value) instead, to perform the operation inplace on the original object.\n",
      "\n",
      "\n",
      "  df_test[col].fillna(df_test[col].mode()[0], inplace=True)\n",
      "<ipython-input-11-b60f838716d1>:6: FutureWarning: A value is trying to be set on a copy of a DataFrame or Series through chained assignment using an inplace method.\n",
      "The behavior will change in pandas 3.0. This inplace method will never work because the intermediate object on which we are setting values always behaves as a copy.\n",
      "\n",
      "For example, when doing 'df[col].method(value, inplace=True)', try using 'df.method({col: value}, inplace=True)' or df[col] = df[col].method(value) instead, to perform the operation inplace on the original object.\n",
      "\n",
      "\n",
      "  df_test[col].fillna(df_test[col].mode()[0], inplace=True)\n",
      "<ipython-input-11-b60f838716d1>:6: FutureWarning: A value is trying to be set on a copy of a DataFrame or Series through chained assignment using an inplace method.\n",
      "The behavior will change in pandas 3.0. This inplace method will never work because the intermediate object on which we are setting values always behaves as a copy.\n",
      "\n",
      "For example, when doing 'df[col].method(value, inplace=True)', try using 'df.method({col: value}, inplace=True)' or df[col] = df[col].method(value) instead, to perform the operation inplace on the original object.\n",
      "\n",
      "\n",
      "  df_test[col].fillna(df_test[col].mode()[0], inplace=True)\n"
     ]
    }
   ],
   "source": [
    "#fill null or nan in num_train_less_2 with mode\n",
    "for col in num_train_less_2:\n",
    "    df_train[col].fillna(df_train[col].mode()[0], inplace=True)\n",
    "\n",
    "for col in num_test_less_2:\n",
    "    df_test[col].fillna(df_test[col].mode()[0], inplace=True)"
   ]
  },
  {
   "cell_type": "code",
   "execution_count": 12,
   "id": "ca81a4b8",
   "metadata": {
    "execution": {
     "iopub.execute_input": "2025-03-19T13:56:12.493352Z",
     "iopub.status.busy": "2025-03-19T13:56:12.492982Z",
     "iopub.status.idle": "2025-03-19T13:56:12.517423Z",
     "shell.execute_reply": "2025-03-19T13:56:12.516468Z"
    },
    "papermill": {
     "duration": 0.040335,
     "end_time": "2025-03-19T13:56:12.519168",
     "exception": false,
     "start_time": "2025-03-19T13:56:12.478833",
     "status": "completed"
    },
    "tags": []
   },
   "outputs": [
    {
     "data": {
      "text/plain": [
       "IsBetaUser                          0\n",
       "IsPassiveModeEnabled                0\n",
       "HasTpm                              0\n",
       "IsSystemProtected                   0\n",
       "AutoSampleSubmissionEnabled         0\n",
       "SMode                               0\n",
       "FirewallEnabled                     0\n",
       "HasOpticalDiskDrive                 0\n",
       "IsPortableOS                        0\n",
       "IsFlightsDisabled                   0\n",
       "IsSecureBootEnabled                 0\n",
       "IsVirtualDevice                     0\n",
       "IsTouchEnabled                      0\n",
       "IsPenCapable                        0\n",
       "IsAlwaysOnAlwaysConnectedCapable    0\n",
       "IsGamer                             0\n",
       "target                              0\n",
       "dtype: int64"
      ]
     },
     "execution_count": 12,
     "metadata": {},
     "output_type": "execute_result"
    }
   ],
   "source": [
    "df_train[num_train_less_2].isnull().sum()"
   ]
  },
  {
   "cell_type": "code",
   "execution_count": 13,
   "id": "57de11a6",
   "metadata": {
    "execution": {
     "iopub.execute_input": "2025-03-19T13:56:12.545884Z",
     "iopub.status.busy": "2025-03-19T13:56:12.545550Z",
     "iopub.status.idle": "2025-03-19T13:56:12.785295Z",
     "shell.execute_reply": "2025-03-19T13:56:12.784302Z"
    },
    "papermill": {
     "duration": 0.254818,
     "end_time": "2025-03-19T13:56:12.787002",
     "exception": false,
     "start_time": "2025-03-19T13:56:12.532184",
     "status": "completed"
    },
    "tags": []
   },
   "outputs": [
    {
     "data": {
      "image/png": "[encoded data removed]",
      "text/plain": [
       "<Figure size 640x480 with 1 Axes>"
      ]
     },
     "metadata": {},
     "output_type": "display_data"
    }
   ],
   "source": [
    "#Target Distribution Map\n",
    "\n",
    "sns.countplot(x=df_train['target'], palette='viridis')\n",
    "plt.title('Target Variable Distribution')\n",
    "plt.show()"
   ]
  },
  {
   "cell_type": "code",
   "execution_count": 14,
   "id": "9c2acc34",
   "metadata": {
    "execution": {
     "iopub.execute_input": "2025-03-19T13:56:12.814753Z",
     "iopub.status.busy": "2025-03-19T13:56:12.814332Z",
     "iopub.status.idle": "2025-03-19T13:56:14.284842Z",
     "shell.execute_reply": "2025-03-19T13:56:14.283811Z"
    },
    "papermill": {
     "duration": 1.488846,
     "end_time": "2025-03-19T13:56:14.289216",
     "exception": false,
     "start_time": "2025-03-19T13:56:12.800370",
     "status": "completed"
    },
    "tags": []
   },
   "outputs": [
    {
     "name": "stderr",
     "output_type": "stream",
     "text": [
      "/usr/local/lib/python3.10/dist-packages/matplotlib/colors.py:721: RuntimeWarning: invalid value encountered in less\n",
      "  xa[xa < 0] = -1\n"
     ]
    },
    {
     "data": {
      "image/png": "[encoded data removed]",
      "text/plain": [
       "<Figure size 1200x800 with 2 Axes>"
      ]
     },
     "metadata": {},
     "output_type": "display_data"
    }
   ],
   "source": [
    "plt.figure(figsize=(12, 8))\n",
    "sns.heatmap(num_train_.corr(numeric_only=True), cmap='coolwarm', annot=False, linewidths=0.5)\n",
    "plt.title('Feature Correlation Heatmap')\n",
    "plt.show()"
   ]
  },
  {
   "cell_type": "code",
   "execution_count": 15,
   "id": "9f149d13",
   "metadata": {
    "execution": {
     "iopub.execute_input": "2025-03-19T13:56:14.325594Z",
     "iopub.status.busy": "2025-03-19T13:56:14.325183Z",
     "iopub.status.idle": "2025-03-19T13:56:14.464582Z",
     "shell.execute_reply": "2025-03-19T13:56:14.463424Z"
    },
    "papermill": {
     "duration": 0.15935,
     "end_time": "2025-03-19T13:56:14.466364",
     "exception": false,
     "start_time": "2025-03-19T13:56:14.307014",
     "status": "completed"
    },
    "tags": []
   },
   "outputs": [
    {
     "data": {
      "image/png": "[encoded data removed]",
      "text/plain": [
       "<Figure size 800x500 with 1 Axes>"
      ]
     },
     "metadata": {},
     "output_type": "display_data"
    }
   ],
   "source": [
    "# Box Plot for Total Physical RAM\n",
    "plt.figure(figsize=(8, 5))\n",
    "sns.boxplot(x=df_train['TotalPhysicalRAMMB'], color='lightblue')\n",
    "plt.title('Box Plot for Total Physical RAM (MB)')\n",
    "plt.show()\n"
   ]
  },
  {
   "cell_type": "code",
   "execution_count": 16,
   "id": "80d389f1",
   "metadata": {
    "execution": {
     "iopub.execute_input": "2025-03-19T13:56:14.504132Z",
     "iopub.status.busy": "2025-03-19T13:56:14.503775Z",
     "iopub.status.idle": "2025-03-19T13:56:14.640095Z",
     "shell.execute_reply": "2025-03-19T13:56:14.638959Z"
    },
    "papermill": {
     "duration": 0.157653,
     "end_time": "2025-03-19T13:56:14.641974",
     "exception": false,
     "start_time": "2025-03-19T13:56:14.484321",
     "status": "completed"
    },
    "tags": []
   },
   "outputs": [
    {
     "data": {
      "image/png": "[encoded data removed]",
      "text/plain": [
       "<Figure size 800x500 with 1 Axes>"
      ]
     },
     "metadata": {},
     "output_type": "display_data"
    }
   ],
   "source": [
    "# Box Plot for Primary Disk Capacity\n",
    "plt.figure(figsize=(8, 5))\n",
    "sns.boxplot(x=df_train['PrimaryDiskCapacityMB'], color='lightcoral')\n",
    "plt.title('Box Plot for Primary Disk Capacity (MB)')\n",
    "plt.show()\n"
   ]
  },
  {
   "cell_type": "code",
   "execution_count": 17,
   "id": "39f34676",
   "metadata": {
    "execution": {
     "iopub.execute_input": "2025-03-19T13:56:14.681011Z",
     "iopub.status.busy": "2025-03-19T13:56:14.680641Z",
     "iopub.status.idle": "2025-03-19T13:56:15.008119Z",
     "shell.execute_reply": "2025-03-19T13:56:15.007059Z"
    },
    "papermill": {
     "duration": 0.349166,
     "end_time": "2025-03-19T13:56:15.009962",
     "exception": false,
     "start_time": "2025-03-19T13:56:14.660796",
     "status": "completed"
    },
    "tags": []
   },
   "outputs": [
    {
     "data": {
      "image/png": "[encoded data removed]",
      "text/plain": [
       "<Figure size 640x480 with 1 Axes>"
      ]
     },
     "metadata": {},
     "output_type": "display_data"
    }
   ],
   "source": [
    "sns.countplot(x=df_train['OSArchitecture'], hue=df_train['target'], palette='viridis')\n",
    "plt.title('OS Architecture vs Target Count')\n",
    "plt.show()"
   ]
  },
  {
   "cell_type": "code",
   "execution_count": 18,
   "id": "3ca805a4",
   "metadata": {
    "execution": {
     "iopub.execute_input": "2025-03-19T13:56:15.049977Z",
     "iopub.status.busy": "2025-03-19T13:56:15.049609Z",
     "iopub.status.idle": "2025-03-19T13:56:15.286135Z",
     "shell.execute_reply": "2025-03-19T13:56:15.285070Z"
    },
    "papermill": {
     "duration": 0.257885,
     "end_time": "2025-03-19T13:56:15.287722",
     "exception": false,
     "start_time": "2025-03-19T13:56:15.029837",
     "status": "completed"
    },
    "tags": []
   },
   "outputs": [
    {
     "data": {
      "image/png": "[encoded data removed]",
      "text/plain": [
       "<Figure size 640x480 with 1 Axes>"
      ]
     },
     "metadata": {},
     "output_type": "display_data"
    }
   ],
   "source": [
    "sns.countplot(x=df_train['Processor'], hue=df_train['target'], palette='viridis')\n",
    "plt.title('Processor vs Target Count')\n",
    "plt.show()"
   ]
  },
  {
   "cell_type": "code",
   "execution_count": 19,
   "id": "3006e544",
   "metadata": {
    "execution": {
     "iopub.execute_input": "2025-03-19T13:56:15.327112Z",
     "iopub.status.busy": "2025-03-19T13:56:15.326743Z",
     "iopub.status.idle": "2025-03-19T13:56:21.018001Z",
     "shell.execute_reply": "2025-03-19T13:56:21.016942Z"
    },
    "papermill": {
     "duration": 5.714583,
     "end_time": "2025-03-19T13:56:21.021546",
     "exception": false,
     "start_time": "2025-03-19T13:56:15.306963",
     "status": "completed"
    },
    "tags": []
   },
   "outputs": [
    {
     "data": {
      "image/png": "[encoded data removed]",
      "text/plain": [
       "<Figure size 1400x600 with 2 Axes>"
      ]
     },
     "metadata": {},
     "output_type": "display_data"
    }
   ],
   "source": [
    "import matplotlib.pyplot as plt\n",
    "import seaborn as sns\n",
    "\n",
    "# Define the features to compare\n",
    "x1 = 'TotalPhysicalRAMMB'\n",
    "y1 = 'PrimaryDiskCapacityMB'\n",
    "x2 = 'ProcessorCoreCount'\n",
    "y2 = 'SystemVolumeCapacityMB'\n",
    "\n",
    "# Create the figure and subplots\n",
    "fig, axes = plt.subplots(1, 2, figsize=(14, 6))\n",
    "\n",
    "# First scatter plot\n",
    "sns.scatterplot(x=df_train[x1], y=df_train[y1], hue=df_train['target'], alpha=0.6, ax=axes[0], edgecolor=None)\n",
    "axes[0].set_title(f'{x1} vs {y1}')\n",
    "axes[0].set_xlabel(x1)\n",
    "axes[0].set_ylabel(y1)\n",
    "\n",
    "# Second scatter plot\n",
    "sns.scatterplot(x=df_train[x2], y=df_train[y2], hue=df_train['target'], alpha=0.6, ax=axes[1], edgecolor=None)\n",
    "axes[1].set_title(f'{x2} vs {y2}')\n",
    "axes[1].set_xlabel(x2)\n",
    "axes[1].set_ylabel(y2)\n",
    "\n",
    "# Adjust layout for better spacing\n",
    "plt.tight_layout()\n",
    "plt.show()\n"
   ]
  },
  {
   "cell_type": "code",
   "execution_count": 20,
   "id": "c712632e",
   "metadata": {
    "execution": {
     "iopub.execute_input": "2025-03-19T13:56:21.068466Z",
     "iopub.status.busy": "2025-03-19T13:56:21.068073Z",
     "iopub.status.idle": "2025-03-19T13:56:21.372312Z",
     "shell.execute_reply": "2025-03-19T13:56:21.370976Z"
    },
    "papermill": {
     "duration": 0.328564,
     "end_time": "2025-03-19T13:56:21.374192",
     "exception": false,
     "start_time": "2025-03-19T13:56:21.045628",
     "status": "completed"
    },
    "tags": []
   },
   "outputs": [
    {
     "data": {
      "image/png": "[encoded data removed]",
      "text/plain": [
       "<Figure size 640x480 with 1 Axes>"
      ]
     },
     "metadata": {},
     "output_type": "display_data"
    }
   ],
   "source": [
    "import matplotlib.pyplot as plt\n",
    "\n",
    "df_train['TotalPhysicalRAMMB'].hist(bins=50, edgecolor='black')\n",
    "plt.xlabel('Total Physical RAM (MB)')\n",
    "plt.ylabel('Count')\n",
    "plt.title('Distribution of Total RAM')\n",
    "plt.show()\n"
   ]
  },
  {
   "cell_type": "code",
   "execution_count": 21,
   "id": "b139b841",
   "metadata": {
    "execution": {
     "iopub.execute_input": "2025-03-19T13:56:21.419640Z",
     "iopub.status.busy": "2025-03-19T13:56:21.419206Z",
     "iopub.status.idle": "2025-03-19T13:56:21.698648Z",
     "shell.execute_reply": "2025-03-19T13:56:21.697560Z"
    },
    "papermill": {
     "duration": 0.303692,
     "end_time": "2025-03-19T13:56:21.700272",
     "exception": false,
     "start_time": "2025-03-19T13:56:21.396580",
     "status": "completed"
    },
    "tags": []
   },
   "outputs": [
    {
     "data": {
      "image/png": "[encoded data removed]",
      "text/plain": [
       "<Figure size 640x480 with 1 Axes>"
      ]
     },
     "metadata": {},
     "output_type": "display_data"
    }
   ],
   "source": [
    "df_train['OSEdition'].value_counts().plot(kind='pie', autopct='%1.1f%%')\n",
    "plt.title('Operating System Distribution')\n",
    "plt.ylabel('')\n",
    "plt.show()\n"
   ]
  },
  {
   "cell_type": "code",
   "execution_count": null,
   "id": "0b3dabcb",
   "metadata": {
    "papermill": {
     "duration": 0.022629,
     "end_time": "2025-03-19T13:56:21.746750",
     "exception": false,
     "start_time": "2025-03-19T13:56:21.724121",
     "status": "completed"
    },
    "tags": []
   },
   "outputs": [],
   "source": []
  },
  {
   "cell_type": "markdown",
   "id": "dc391572",
   "metadata": {
    "papermill": {
     "duration": 0.022438,
     "end_time": "2025-03-19T13:56:21.792050",
     "exception": false,
     "start_time": "2025-03-19T13:56:21.769612",
     "status": "completed"
    },
    "tags": []
   },
   "source": [
    "# Feature Engineering"
   ]
  },
  {
   "cell_type": "code",
   "execution_count": 22,
   "id": "6cb3a6a8",
   "metadata": {
    "execution": {
     "iopub.execute_input": "2025-03-19T13:56:21.839190Z",
     "iopub.status.busy": "2025-03-19T13:56:21.838857Z",
     "iopub.status.idle": "2025-03-19T13:56:22.362889Z",
     "shell.execute_reply": "2025-03-19T13:56:22.361964Z"
    },
    "papermill": {
     "duration": 0.549844,
     "end_time": "2025-03-19T13:56:22.364811",
     "exception": false,
     "start_time": "2025-03-19T13:56:21.814967",
     "status": "completed"
    },
    "tags": []
   },
   "outputs": [],
   "source": [
    "def feature_engineering(df):\n",
    "    df['DateOS'] = pd.to_datetime(df['DateOS'], errors='coerce')\n",
    "    df['DateAS'] = pd.to_datetime(df['DateAS'], errors='coerce')\n",
    "    df['OSAge'] = (df['DateAS'] - df['DateOS']).dt.days\n",
    "    df['Security_Coverage'] = df['NumAntivirusProductsEnabled'] / df['NumAntivirusProductsInstalled']\n",
    "    df['Firewall_Protection'] = df['FirewallEnabled'].fillna(0).astype(int)\n",
    "    df['RAM_Disk_Ratio'] = df['TotalPhysicalRAMMB'] / df['PrimaryDiskCapacityMB']\n",
    "    df.replace([np.inf, -np.inf], np.nan, inplace=True) \n",
    "    return df\n",
    "\n",
    "\n",
    "df_train = feature_engineering(df_train)\n",
    "df_test = feature_engineering(df_test)\n"
   ]
  },
  {
   "cell_type": "code",
   "execution_count": 23,
   "id": "62b3bebe",
   "metadata": {
    "execution": {
     "iopub.execute_input": "2025-03-19T13:56:22.412590Z",
     "iopub.status.busy": "2025-03-19T13:56:22.412202Z",
     "iopub.status.idle": "2025-03-19T13:56:22.420822Z",
     "shell.execute_reply": "2025-03-19T13:56:22.419813Z"
    },
    "papermill": {
     "duration": 0.034001,
     "end_time": "2025-03-19T13:56:22.422302",
     "exception": false,
     "start_time": "2025-03-19T13:56:22.388301",
     "status": "completed"
    },
    "tags": []
   },
   "outputs": [
    {
     "data": {
      "text/plain": [
       "EnableLUA\n",
       "1.0     99494\n",
       "0.0       484\n",
       "48.0        3\n",
       "Name: count, dtype: int64"
      ]
     },
     "execution_count": 23,
     "metadata": {},
     "output_type": "execute_result"
    }
   ],
   "source": [
    "df_train['EnableLUA'].value_counts()"
   ]
  },
  {
   "cell_type": "code",
   "execution_count": 24,
   "id": "a243f800",
   "metadata": {
    "execution": {
     "iopub.execute_input": "2025-03-19T13:56:22.469712Z",
     "iopub.status.busy": "2025-03-19T13:56:22.469346Z",
     "iopub.status.idle": "2025-03-19T13:56:22.477867Z",
     "shell.execute_reply": "2025-03-19T13:56:22.476691Z"
    },
    "papermill": {
     "duration": 0.034194,
     "end_time": "2025-03-19T13:56:22.479479",
     "exception": false,
     "start_time": "2025-03-19T13:56:22.445285",
     "status": "completed"
    },
    "tags": []
   },
   "outputs": [
    {
     "name": "stderr",
     "output_type": "stream",
     "text": [
      "<ipython-input-24-b7538db5d6dd>:4: FutureWarning: A value is trying to be set on a copy of a DataFrame or Series through chained assignment using an inplace method.\n",
      "The behavior will change in pandas 3.0. This inplace method will never work because the intermediate object on which we are setting values always behaves as a copy.\n",
      "\n",
      "For example, when doing 'df[col].method(value, inplace=True)', try using 'df.method({col: value}, inplace=True)' or df[col] = df[col].method(value) instead, to perform the operation inplace on the original object.\n",
      "\n",
      "\n",
      "  df_train['EnableLUA'].replace(48.0, mode_value, inplace=True)\n",
      "<ipython-input-24-b7538db5d6dd>:5: FutureWarning: A value is trying to be set on a copy of a DataFrame or Series through chained assignment using an inplace method.\n",
      "The behavior will change in pandas 3.0. This inplace method will never work because the intermediate object on which we are setting values always behaves as a copy.\n",
      "\n",
      "For example, when doing 'df[col].method(value, inplace=True)', try using 'df.method({col: value}, inplace=True)' or df[col] = df[col].method(value) instead, to perform the operation inplace on the original object.\n",
      "\n",
      "\n",
      "  df_test['EnableLUA'].replace(48.0, mode_value, inplace=True)\n"
     ]
    }
   ],
   "source": [
    "#Replacing 48 with mode \n",
    "\n",
    "mode_value = df_train['EnableLUA'].mode()[0]\n",
    "df_train['EnableLUA'].replace(48.0, mode_value, inplace=True)\n",
    "df_test['EnableLUA'].replace(48.0, mode_value, inplace=True)\n"
   ]
  },
  {
   "cell_type": "code",
   "execution_count": 25,
   "id": "3bbb0541",
   "metadata": {
    "execution": {
     "iopub.execute_input": "2025-03-19T13:56:22.528271Z",
     "iopub.status.busy": "2025-03-19T13:56:22.527947Z",
     "iopub.status.idle": "2025-03-19T13:56:22.536581Z",
     "shell.execute_reply": "2025-03-19T13:56:22.535474Z"
    },
    "papermill": {
     "duration": 0.035354,
     "end_time": "2025-03-19T13:56:22.538180",
     "exception": false,
     "start_time": "2025-03-19T13:56:22.502826",
     "status": "completed"
    },
    "tags": []
   },
   "outputs": [
    {
     "data": {
      "text/plain": [
       "EnableLUA\n",
       "1.0    99497\n",
       "0.0      484\n",
       "Name: count, dtype: int64"
      ]
     },
     "execution_count": 25,
     "metadata": {},
     "output_type": "execute_result"
    }
   ],
   "source": [
    "df_train['EnableLUA'].value_counts()"
   ]
  },
  {
   "cell_type": "code",
   "execution_count": 26,
   "id": "683ab998",
   "metadata": {
    "execution": {
     "iopub.execute_input": "2025-03-19T13:56:22.586498Z",
     "iopub.status.busy": "2025-03-19T13:56:22.586100Z",
     "iopub.status.idle": "2025-03-19T13:56:22.640921Z",
     "shell.execute_reply": "2025-03-19T13:56:22.639881Z"
    },
    "papermill": {
     "duration": 0.080999,
     "end_time": "2025-03-19T13:56:22.642631",
     "exception": false,
     "start_time": "2025-03-19T13:56:22.561632",
     "status": "completed"
    },
    "tags": []
   },
   "outputs": [
    {
     "data": {
      "text/html": [
       "<div>\n",
       "<style scoped>\n",
       "    .dataframe tbody tr th:only-of-type {\n",
       "        vertical-align: middle;\n",
       "    }\n",
       "\n",
       "    .dataframe tbody tr th {\n",
       "        vertical-align: top;\n",
       "    }\n",
       "\n",
       "    .dataframe thead th {\n",
       "        text-align: right;\n",
       "    }\n",
       "</style>\n",
       "<table border=\"1\" class=\"dataframe\">\n",
       "  <thead>\n",
       "    <tr style=\"text-align: right;\">\n",
       "      <th></th>\n",
       "      <th>ProductName</th>\n",
       "      <th>EngineVersion</th>\n",
       "      <th>AppVersion</th>\n",
       "      <th>SignatureVersion</th>\n",
       "      <th>IsBetaUser</th>\n",
       "      <th>RealTimeProtectionState</th>\n",
       "      <th>IsPassiveModeEnabled</th>\n",
       "      <th>AntivirusConfigID</th>\n",
       "      <th>NumAntivirusProductsInstalled</th>\n",
       "      <th>NumAntivirusProductsEnabled</th>\n",
       "      <th>HasTpm</th>\n",
       "      <th>CountryID</th>\n",
       "      <th>CityID</th>\n",
       "      <th>GeoRegionID</th>\n",
       "      <th>LocaleEnglishNameID</th>\n",
       "      <th>PlatformType</th>\n",
       "      <th>Processor</th>\n",
       "      <th>OSVersion</th>\n",
       "      <th>OSBuildNumber</th>\n",
       "      <th>OSProductSuite</th>\n",
       "      <th>OsPlatformSubRelease</th>\n",
       "      <th>OSBuildLab</th>\n",
       "      <th>SKUEditionName</th>\n",
       "      <th>IsSystemProtected</th>\n",
       "      <th>AutoSampleSubmissionEnabled</th>\n",
       "      <th>SMode</th>\n",
       "      <th>IEVersionID</th>\n",
       "      <th>FirewallEnabled</th>\n",
       "      <th>EnableLUA</th>\n",
       "      <th>MDC2FormFactor</th>\n",
       "      <th>DeviceFamily</th>\n",
       "      <th>OEMNameID</th>\n",
       "      <th>OEMModelID</th>\n",
       "      <th>ProcessorCoreCount</th>\n",
       "      <th>ProcessorManufacturerID</th>\n",
       "      <th>ProcessorModelID</th>\n",
       "      <th>PrimaryDiskCapacityMB</th>\n",
       "      <th>PrimaryDiskType</th>\n",
       "      <th>SystemVolumeCapacityMB</th>\n",
       "      <th>HasOpticalDiskDrive</th>\n",
       "      <th>TotalPhysicalRAMMB</th>\n",
       "      <th>ChassisType</th>\n",
       "      <th>PrimaryDisplayDiagonalInches</th>\n",
       "      <th>PrimaryDisplayResolutionHorizontal</th>\n",
       "      <th>PrimaryDisplayResolutionVertical</th>\n",
       "      <th>PowerPlatformRole</th>\n",
       "      <th>InternalBatteryNumberOfCharges</th>\n",
       "      <th>NumericOSVersion</th>\n",
       "      <th>OSArchitecture</th>\n",
       "      <th>OSBranch</th>\n",
       "      <th>OSBuildNumberOnly</th>\n",
       "      <th>OSBuildRevisionOnly</th>\n",
       "      <th>OSEdition</th>\n",
       "      <th>OSSkuFriendlyName</th>\n",
       "      <th>OSInstallType</th>\n",
       "      <th>OSInstallLanguageID</th>\n",
       "      <th>OSUILocaleID</th>\n",
       "      <th>AutoUpdateOptionsName</th>\n",
       "      <th>IsPortableOS</th>\n",
       "      <th>OSGenuineState</th>\n",
       "      <th>LicenseActivationChannel</th>\n",
       "      <th>IsFlightsDisabled</th>\n",
       "      <th>FlightRing</th>\n",
       "      <th>FirmwareManufacturerID</th>\n",
       "      <th>FirmwareVersionID</th>\n",
       "      <th>IsSecureBootEnabled</th>\n",
       "      <th>IsVirtualDevice</th>\n",
       "      <th>IsTouchEnabled</th>\n",
       "      <th>IsPenCapable</th>\n",
       "      <th>IsAlwaysOnAlwaysConnectedCapable</th>\n",
       "      <th>IsGamer</th>\n",
       "      <th>RegionIdentifier</th>\n",
       "      <th>DateAS</th>\n",
       "      <th>DateOS</th>\n",
       "      <th>target</th>\n",
       "      <th>OSAge</th>\n",
       "      <th>Security_Coverage</th>\n",
       "      <th>Firewall_Protection</th>\n",
       "      <th>RAM_Disk_Ratio</th>\n",
       "    </tr>\n",
       "  </thead>\n",
       "  <tbody>\n",
       "    <tr>\n",
       "      <th>0</th>\n",
       "      <td>win8defender</td>\n",
       "      <td>1.1.15200.1</td>\n",
       "      <td>4.18.1807.18075</td>\n",
       "      <td>1.275.1003.0</td>\n",
       "      <td>0</td>\n",
       "      <td>7.0</td>\n",
       "      <td>0</td>\n",
       "      <td>53447.0</td>\n",
       "      <td>1.0</td>\n",
       "      <td>1.0</td>\n",
       "      <td>1</td>\n",
       "      <td>51</td>\n",
       "      <td>120232.0</td>\n",
       "      <td>98.0</td>\n",
       "      <td>103</td>\n",
       "      <td>windows10</td>\n",
       "      <td>x86</td>\n",
       "      <td>10.0.0.0</td>\n",
       "      <td>14393</td>\n",
       "      <td>768</td>\n",
       "      <td>rs1</td>\n",
       "      <td>14393.2214.x86fre.rs1_release_1.180402-1758</td>\n",
       "      <td>Home</td>\n",
       "      <td>1.0</td>\n",
       "      <td>0</td>\n",
       "      <td>0.0</td>\n",
       "      <td>98.0</td>\n",
       "      <td>1.0</td>\n",
       "      <td>1.0</td>\n",
       "      <td>SmallTablet</td>\n",
       "      <td>Windows.Desktop</td>\n",
       "      <td>561.0</td>\n",
       "      <td>330367.0</td>\n",
       "      <td>4.0</td>\n",
       "      <td>5.0</td>\n",
       "      <td>1850.0</td>\n",
       "      <td>15028.0</td>\n",
       "      <td>SSD</td>\n",
       "      <td>14348.0</td>\n",
       "      <td>0</td>\n",
       "      <td>1024.0</td>\n",
       "      <td>Notebook</td>\n",
       "      <td>8.0</td>\n",
       "      <td>800.0</td>\n",
       "      <td>1280.0</td>\n",
       "      <td>Slate</td>\n",
       "      <td>1.420000e+02</td>\n",
       "      <td>10.0.14393.2214</td>\n",
       "      <td>x86</td>\n",
       "      <td>rs1_release</td>\n",
       "      <td>14393</td>\n",
       "      <td>2214</td>\n",
       "      <td>Core</td>\n",
       "      <td>CORE</td>\n",
       "      <td>Update</td>\n",
       "      <td>5.0</td>\n",
       "      <td>26</td>\n",
       "      <td>UNKNOWN</td>\n",
       "      <td>0</td>\n",
       "      <td>IS_GENUINE</td>\n",
       "      <td>Retail</td>\n",
       "      <td>0.0</td>\n",
       "      <td>Retail</td>\n",
       "      <td>513.0</td>\n",
       "      <td>21964.0</td>\n",
       "      <td>0</td>\n",
       "      <td>0.0</td>\n",
       "      <td>1</td>\n",
       "      <td>0</td>\n",
       "      <td>1.0</td>\n",
       "      <td>0.0</td>\n",
       "      <td>6.0</td>\n",
       "      <td>2018-09-10 10:11:00</td>\n",
       "      <td>2018-04-17</td>\n",
       "      <td>0</td>\n",
       "      <td>146.0</td>\n",
       "      <td>1.0</td>\n",
       "      <td>1</td>\n",
       "      <td>0.068139</td>\n",
       "    </tr>\n",
       "    <tr>\n",
       "      <th>1</th>\n",
       "      <td>win8defender</td>\n",
       "      <td>1.1.15100.1</td>\n",
       "      <td>4.18.1807.18075</td>\n",
       "      <td>1.273.1465.0</td>\n",
       "      <td>0</td>\n",
       "      <td>7.0</td>\n",
       "      <td>0</td>\n",
       "      <td>53447.0</td>\n",
       "      <td>1.0</td>\n",
       "      <td>1.0</td>\n",
       "      <td>1</td>\n",
       "      <td>141</td>\n",
       "      <td>112854.0</td>\n",
       "      <td>167.0</td>\n",
       "      <td>227</td>\n",
       "      <td>windows10</td>\n",
       "      <td>x64</td>\n",
       "      <td>10.0.0.0</td>\n",
       "      <td>17134</td>\n",
       "      <td>256</td>\n",
       "      <td>rs4</td>\n",
       "      <td>17134.1.amd64fre.rs4_release.180410-1804</td>\n",
       "      <td>Pro</td>\n",
       "      <td>1.0</td>\n",
       "      <td>0</td>\n",
       "      <td>0.0</td>\n",
       "      <td>137.0</td>\n",
       "      <td>1.0</td>\n",
       "      <td>1.0</td>\n",
       "      <td>AllInOne</td>\n",
       "      <td>Windows.Desktop</td>\n",
       "      <td>2668.0</td>\n",
       "      <td>25212.0</td>\n",
       "      <td>4.0</td>\n",
       "      <td>5.0</td>\n",
       "      <td>2407.0</td>\n",
       "      <td>953869.0</td>\n",
       "      <td>HDD</td>\n",
       "      <td>952592.0</td>\n",
       "      <td>1</td>\n",
       "      <td>4096.0</td>\n",
       "      <td>AllinOne</td>\n",
       "      <td>19.4</td>\n",
       "      <td>1600.0</td>\n",
       "      <td>900.0</td>\n",
       "      <td>Desktop</td>\n",
       "      <td>4.294967e+09</td>\n",
       "      <td>10.0.17134.228</td>\n",
       "      <td>amd64</td>\n",
       "      <td>rs4_release</td>\n",
       "      <td>17134</td>\n",
       "      <td>228</td>\n",
       "      <td>Professional</td>\n",
       "      <td>PROFESSIONAL</td>\n",
       "      <td>UUPUpgrade</td>\n",
       "      <td>9.0</td>\n",
       "      <td>34</td>\n",
       "      <td>FullAuto</td>\n",
       "      <td>0</td>\n",
       "      <td>IS_GENUINE</td>\n",
       "      <td>OEM:DM</td>\n",
       "      <td>0.0</td>\n",
       "      <td>Retail</td>\n",
       "      <td>628.0</td>\n",
       "      <td>44548.0</td>\n",
       "      <td>1</td>\n",
       "      <td>0.0</td>\n",
       "      <td>0</td>\n",
       "      <td>0</td>\n",
       "      <td>0.0</td>\n",
       "      <td>0.0</td>\n",
       "      <td>10.0</td>\n",
       "      <td>2018-08-16 00:01:00</td>\n",
       "      <td>2018-08-14</td>\n",
       "      <td>1</td>\n",
       "      <td>2.0</td>\n",
       "      <td>1.0</td>\n",
       "      <td>1</td>\n",
       "      <td>0.004294</td>\n",
       "    </tr>\n",
       "    <tr>\n",
       "      <th>2</th>\n",
       "      <td>win8defender</td>\n",
       "      <td>1.1.15200.1</td>\n",
       "      <td>4.18.1807.18075</td>\n",
       "      <td>1.275.1546.0</td>\n",
       "      <td>0</td>\n",
       "      <td>7.0</td>\n",
       "      <td>0</td>\n",
       "      <td>53447.0</td>\n",
       "      <td>1.0</td>\n",
       "      <td>1.0</td>\n",
       "      <td>1</td>\n",
       "      <td>51</td>\n",
       "      <td>41759.0</td>\n",
       "      <td>98.0</td>\n",
       "      <td>103</td>\n",
       "      <td>windows10</td>\n",
       "      <td>x64</td>\n",
       "      <td>10.0.0.0</td>\n",
       "      <td>17134</td>\n",
       "      <td>768</td>\n",
       "      <td>rs4</td>\n",
       "      <td>17134.1.amd64fre.rs4_release.180410-1804</td>\n",
       "      <td>Home</td>\n",
       "      <td>1.0</td>\n",
       "      <td>0</td>\n",
       "      <td>0.0</td>\n",
       "      <td>137.0</td>\n",
       "      <td>1.0</td>\n",
       "      <td>1.0</td>\n",
       "      <td>Desktop</td>\n",
       "      <td>Windows.Desktop</td>\n",
       "      <td>3035.0</td>\n",
       "      <td>263666.0</td>\n",
       "      <td>4.0</td>\n",
       "      <td>5.0</td>\n",
       "      <td>2719.0</td>\n",
       "      <td>228936.0</td>\n",
       "      <td>SSD</td>\n",
       "      <td>228321.0</td>\n",
       "      <td>1</td>\n",
       "      <td>8192.0</td>\n",
       "      <td>Desktop</td>\n",
       "      <td>24.0</td>\n",
       "      <td>1920.0</td>\n",
       "      <td>1080.0</td>\n",
       "      <td>Desktop</td>\n",
       "      <td>4.294967e+09</td>\n",
       "      <td>10.0.17134.285</td>\n",
       "      <td>amd64</td>\n",
       "      <td>rs4_release</td>\n",
       "      <td>17134</td>\n",
       "      <td>285</td>\n",
       "      <td>Core</td>\n",
       "      <td>CORE</td>\n",
       "      <td>Reset</td>\n",
       "      <td>5.0</td>\n",
       "      <td>26</td>\n",
       "      <td>FullAuto</td>\n",
       "      <td>0</td>\n",
       "      <td>IS_GENUINE</td>\n",
       "      <td>OEM:NONSLP</td>\n",
       "      <td>0.0</td>\n",
       "      <td>Retail</td>\n",
       "      <td>142.0</td>\n",
       "      <td>9414.0</td>\n",
       "      <td>0</td>\n",
       "      <td>0.0</td>\n",
       "      <td>0</td>\n",
       "      <td>0</td>\n",
       "      <td>0.0</td>\n",
       "      <td>1.0</td>\n",
       "      <td>6.0</td>\n",
       "      <td>2018-09-20 23:20:00</td>\n",
       "      <td>2018-09-11</td>\n",
       "      <td>1</td>\n",
       "      <td>9.0</td>\n",
       "      <td>1.0</td>\n",
       "      <td>1</td>\n",
       "      <td>0.035783</td>\n",
       "    </tr>\n",
       "    <tr>\n",
       "      <th>3</th>\n",
       "      <td>win8defender</td>\n",
       "      <td>1.1.15200.1</td>\n",
       "      <td>4.12.17007.18011</td>\n",
       "      <td>1.275.1141.0</td>\n",
       "      <td>0</td>\n",
       "      <td>7.0</td>\n",
       "      <td>0</td>\n",
       "      <td>46413.0</td>\n",
       "      <td>2.0</td>\n",
       "      <td>1.0</td>\n",
       "      <td>1</td>\n",
       "      <td>68</td>\n",
       "      <td>19507.0</td>\n",
       "      <td>276.0</td>\n",
       "      <td>74</td>\n",
       "      <td>windows10</td>\n",
       "      <td>x64</td>\n",
       "      <td>10.0.0.0</td>\n",
       "      <td>15063</td>\n",
       "      <td>768</td>\n",
       "      <td>rs2</td>\n",
       "      <td>15063.0.amd64fre.rs2_release.170317-1834</td>\n",
       "      <td>Home</td>\n",
       "      <td>1.0</td>\n",
       "      <td>0</td>\n",
       "      <td>0.0</td>\n",
       "      <td>108.0</td>\n",
       "      <td>1.0</td>\n",
       "      <td>1.0</td>\n",
       "      <td>Notebook</td>\n",
       "      <td>Windows.Desktop</td>\n",
       "      <td>2102.0</td>\n",
       "      <td>242491.0</td>\n",
       "      <td>4.0</td>\n",
       "      <td>5.0</td>\n",
       "      <td>3410.0</td>\n",
       "      <td>1907729.0</td>\n",
       "      <td>HDD</td>\n",
       "      <td>1890776.0</td>\n",
       "      <td>0</td>\n",
       "      <td>8192.0</td>\n",
       "      <td>Notebook</td>\n",
       "      <td>15.5</td>\n",
       "      <td>1366.0</td>\n",
       "      <td>768.0</td>\n",
       "      <td>Mobile</td>\n",
       "      <td>0.000000e+00</td>\n",
       "      <td>10.0.15063.850</td>\n",
       "      <td>amd64</td>\n",
       "      <td>rs2_release</td>\n",
       "      <td>15063</td>\n",
       "      <td>850</td>\n",
       "      <td>Core</td>\n",
       "      <td>CORE</td>\n",
       "      <td>Upgrade</td>\n",
       "      <td>7.0</td>\n",
       "      <td>30</td>\n",
       "      <td>UNKNOWN</td>\n",
       "      <td>0</td>\n",
       "      <td>IS_GENUINE</td>\n",
       "      <td>OEM:DM</td>\n",
       "      <td>0.0</td>\n",
       "      <td>Retail</td>\n",
       "      <td>554.0</td>\n",
       "      <td>33060.0</td>\n",
       "      <td>1</td>\n",
       "      <td>0.0</td>\n",
       "      <td>0</td>\n",
       "      <td>0</td>\n",
       "      <td>0.0</td>\n",
       "      <td>0.0</td>\n",
       "      <td>12.0</td>\n",
       "      <td>2018-09-14 00:32:00</td>\n",
       "      <td>2018-01-03</td>\n",
       "      <td>1</td>\n",
       "      <td>254.0</td>\n",
       "      <td>0.5</td>\n",
       "      <td>1</td>\n",
       "      <td>0.004294</td>\n",
       "    </tr>\n",
       "    <tr>\n",
       "      <th>4</th>\n",
       "      <td>win8defender</td>\n",
       "      <td>1.1.15200.1</td>\n",
       "      <td>4.13.17134.228</td>\n",
       "      <td>1.275.1283.0</td>\n",
       "      <td>0</td>\n",
       "      <td>7.0</td>\n",
       "      <td>0</td>\n",
       "      <td>40466.0</td>\n",
       "      <td>2.0</td>\n",
       "      <td>1.0</td>\n",
       "      <td>1</td>\n",
       "      <td>43</td>\n",
       "      <td>117801.0</td>\n",
       "      <td>53.0</td>\n",
       "      <td>42</td>\n",
       "      <td>windows10</td>\n",
       "      <td>x86</td>\n",
       "      <td>10.0.0.0</td>\n",
       "      <td>17134</td>\n",
       "      <td>256</td>\n",
       "      <td>rs4</td>\n",
       "      <td>17134.1.x86fre.rs4_release.180410-1804</td>\n",
       "      <td>Pro</td>\n",
       "      <td>1.0</td>\n",
       "      <td>0</td>\n",
       "      <td>0.0</td>\n",
       "      <td>137.0</td>\n",
       "      <td>1.0</td>\n",
       "      <td>1.0</td>\n",
       "      <td>Desktop</td>\n",
       "      <td>Windows.Desktop</td>\n",
       "      <td>2668.0</td>\n",
       "      <td>257309.0</td>\n",
       "      <td>2.0</td>\n",
       "      <td>5.0</td>\n",
       "      <td>4322.0</td>\n",
       "      <td>305245.0</td>\n",
       "      <td>HDD</td>\n",
       "      <td>52804.0</td>\n",
       "      <td>0</td>\n",
       "      <td>2048.0</td>\n",
       "      <td>Desktop</td>\n",
       "      <td>20.0</td>\n",
       "      <td>1600.0</td>\n",
       "      <td>900.0</td>\n",
       "      <td>Desktop</td>\n",
       "      <td>4.294967e+09</td>\n",
       "      <td>10.0.17134.285</td>\n",
       "      <td>x86</td>\n",
       "      <td>rs4_release</td>\n",
       "      <td>17134</td>\n",
       "      <td>285</td>\n",
       "      <td>Professional</td>\n",
       "      <td>PROFESSIONAL</td>\n",
       "      <td>UUPUpgrade</td>\n",
       "      <td>37.0</td>\n",
       "      <td>158</td>\n",
       "      <td>FullAuto</td>\n",
       "      <td>0</td>\n",
       "      <td>IS_GENUINE</td>\n",
       "      <td>Retail</td>\n",
       "      <td>0.0</td>\n",
       "      <td>Retail</td>\n",
       "      <td>628.0</td>\n",
       "      <td>13224.0</td>\n",
       "      <td>0</td>\n",
       "      <td>0.0</td>\n",
       "      <td>0</td>\n",
       "      <td>0</td>\n",
       "      <td>0.0</td>\n",
       "      <td>1.0</td>\n",
       "      <td>7.0</td>\n",
       "      <td>2018-09-15 19:34:00</td>\n",
       "      <td>2018-09-11</td>\n",
       "      <td>0</td>\n",
       "      <td>4.0</td>\n",
       "      <td>0.5</td>\n",
       "      <td>1</td>\n",
       "      <td>0.006709</td>\n",
       "    </tr>\n",
       "  </tbody>\n",
       "</table>\n",
       "</div>"
      ],
      "text/plain": [
       "    ProductName EngineVersion        AppVersion SignatureVersion  IsBetaUser  \\\n",
       "0  win8defender   1.1.15200.1   4.18.1807.18075     1.275.1003.0           0   \n",
       "1  win8defender   1.1.15100.1   4.18.1807.18075     1.273.1465.0           0   \n",
       "2  win8defender   1.1.15200.1   4.18.1807.18075     1.275.1546.0           0   \n",
       "3  win8defender   1.1.15200.1  4.12.17007.18011     1.275.1141.0           0   \n",
       "4  win8defender   1.1.15200.1    4.13.17134.228     1.275.1283.0           0   \n",
       "\n",
       "   RealTimeProtectionState  IsPassiveModeEnabled  AntivirusConfigID  \\\n",
       "0                      7.0                     0            53447.0   \n",
       "1                      7.0                     0            53447.0   \n",
       "2                      7.0                     0            53447.0   \n",
       "3                      7.0                     0            46413.0   \n",
       "4                      7.0                     0            40466.0   \n",
       "\n",
       "   NumAntivirusProductsInstalled  NumAntivirusProductsEnabled  HasTpm  \\\n",
       "0                            1.0                          1.0       1   \n",
       "1                            1.0                          1.0       1   \n",
       "2                            1.0                          1.0       1   \n",
       "3                            2.0                          1.0       1   \n",
       "4                            2.0                          1.0       1   \n",
       "\n",
       "   CountryID    CityID  GeoRegionID  LocaleEnglishNameID PlatformType  \\\n",
       "0         51  120232.0         98.0                  103    windows10   \n",
       "1        141  112854.0        167.0                  227    windows10   \n",
       "2         51   41759.0         98.0                  103    windows10   \n",
       "3         68   19507.0        276.0                   74    windows10   \n",
       "4         43  117801.0         53.0                   42    windows10   \n",
       "\n",
       "  Processor OSVersion  OSBuildNumber  OSProductSuite OsPlatformSubRelease  \\\n",
       "0       x86  10.0.0.0          14393             768                  rs1   \n",
       "1       x64  10.0.0.0          17134             256                  rs4   \n",
       "2       x64  10.0.0.0          17134             768                  rs4   \n",
       "3       x64  10.0.0.0          15063             768                  rs2   \n",
       "4       x86  10.0.0.0          17134             256                  rs4   \n",
       "\n",
       "                                    OSBuildLab SKUEditionName  \\\n",
       "0  14393.2214.x86fre.rs1_release_1.180402-1758           Home   \n",
       "1     17134.1.amd64fre.rs4_release.180410-1804            Pro   \n",
       "2     17134.1.amd64fre.rs4_release.180410-1804           Home   \n",
       "3     15063.0.amd64fre.rs2_release.170317-1834           Home   \n",
       "4       17134.1.x86fre.rs4_release.180410-1804            Pro   \n",
       "\n",
       "   IsSystemProtected  AutoSampleSubmissionEnabled  SMode  IEVersionID  \\\n",
       "0                1.0                            0    0.0         98.0   \n",
       "1                1.0                            0    0.0        137.0   \n",
       "2                1.0                            0    0.0        137.0   \n",
       "3                1.0                            0    0.0        108.0   \n",
       "4                1.0                            0    0.0        137.0   \n",
       "\n",
       "   FirewallEnabled  EnableLUA MDC2FormFactor     DeviceFamily  OEMNameID  \\\n",
       "0              1.0        1.0    SmallTablet  Windows.Desktop      561.0   \n",
       "1              1.0        1.0       AllInOne  Windows.Desktop     2668.0   \n",
       "2              1.0        1.0        Desktop  Windows.Desktop     3035.0   \n",
       "3              1.0        1.0       Notebook  Windows.Desktop     2102.0   \n",
       "4              1.0        1.0        Desktop  Windows.Desktop     2668.0   \n",
       "\n",
       "   OEMModelID  ProcessorCoreCount  ProcessorManufacturerID  ProcessorModelID  \\\n",
       "0    330367.0                 4.0                      5.0            1850.0   \n",
       "1     25212.0                 4.0                      5.0            2407.0   \n",
       "2    263666.0                 4.0                      5.0            2719.0   \n",
       "3    242491.0                 4.0                      5.0            3410.0   \n",
       "4    257309.0                 2.0                      5.0            4322.0   \n",
       "\n",
       "   PrimaryDiskCapacityMB PrimaryDiskType  SystemVolumeCapacityMB  \\\n",
       "0                15028.0             SSD                 14348.0   \n",
       "1               953869.0             HDD                952592.0   \n",
       "2               228936.0             SSD                228321.0   \n",
       "3              1907729.0             HDD               1890776.0   \n",
       "4               305245.0             HDD                 52804.0   \n",
       "\n",
       "   HasOpticalDiskDrive  TotalPhysicalRAMMB ChassisType  \\\n",
       "0                    0              1024.0    Notebook   \n",
       "1                    1              4096.0    AllinOne   \n",
       "2                    1              8192.0     Desktop   \n",
       "3                    0              8192.0    Notebook   \n",
       "4                    0              2048.0     Desktop   \n",
       "\n",
       "   PrimaryDisplayDiagonalInches  PrimaryDisplayResolutionHorizontal  \\\n",
       "0                           8.0                               800.0   \n",
       "1                          19.4                              1600.0   \n",
       "2                          24.0                              1920.0   \n",
       "3                          15.5                              1366.0   \n",
       "4                          20.0                              1600.0   \n",
       "\n",
       "   PrimaryDisplayResolutionVertical PowerPlatformRole  \\\n",
       "0                            1280.0             Slate   \n",
       "1                             900.0           Desktop   \n",
       "2                            1080.0           Desktop   \n",
       "3                             768.0            Mobile   \n",
       "4                             900.0           Desktop   \n",
       "\n",
       "   InternalBatteryNumberOfCharges NumericOSVersion OSArchitecture  \\\n",
       "0                    1.420000e+02  10.0.14393.2214            x86   \n",
       "1                    4.294967e+09   10.0.17134.228          amd64   \n",
       "2                    4.294967e+09   10.0.17134.285          amd64   \n",
       "3                    0.000000e+00   10.0.15063.850          amd64   \n",
       "4                    4.294967e+09   10.0.17134.285            x86   \n",
       "\n",
       "      OSBranch  OSBuildNumberOnly  OSBuildRevisionOnly     OSEdition  \\\n",
       "0  rs1_release              14393                 2214          Core   \n",
       "1  rs4_release              17134                  228  Professional   \n",
       "2  rs4_release              17134                  285          Core   \n",
       "3  rs2_release              15063                  850          Core   \n",
       "4  rs4_release              17134                  285  Professional   \n",
       "\n",
       "  OSSkuFriendlyName OSInstallType  OSInstallLanguageID  OSUILocaleID  \\\n",
       "0              CORE        Update                  5.0            26   \n",
       "1      PROFESSIONAL    UUPUpgrade                  9.0            34   \n",
       "2              CORE         Reset                  5.0            26   \n",
       "3              CORE       Upgrade                  7.0            30   \n",
       "4      PROFESSIONAL    UUPUpgrade                 37.0           158   \n",
       "\n",
       "  AutoUpdateOptionsName  IsPortableOS OSGenuineState LicenseActivationChannel  \\\n",
       "0               UNKNOWN             0     IS_GENUINE                   Retail   \n",
       "1              FullAuto             0     IS_GENUINE                   OEM:DM   \n",
       "2              FullAuto             0     IS_GENUINE               OEM:NONSLP   \n",
       "3               UNKNOWN             0     IS_GENUINE                   OEM:DM   \n",
       "4              FullAuto             0     IS_GENUINE                   Retail   \n",
       "\n",
       "   IsFlightsDisabled FlightRing  FirmwareManufacturerID  FirmwareVersionID  \\\n",
       "0                0.0     Retail                   513.0            21964.0   \n",
       "1                0.0     Retail                   628.0            44548.0   \n",
       "2                0.0     Retail                   142.0             9414.0   \n",
       "3                0.0     Retail                   554.0            33060.0   \n",
       "4                0.0     Retail                   628.0            13224.0   \n",
       "\n",
       "   IsSecureBootEnabled  IsVirtualDevice  IsTouchEnabled  IsPenCapable  \\\n",
       "0                    0              0.0               1             0   \n",
       "1                    1              0.0               0             0   \n",
       "2                    0              0.0               0             0   \n",
       "3                    1              0.0               0             0   \n",
       "4                    0              0.0               0             0   \n",
       "\n",
       "   IsAlwaysOnAlwaysConnectedCapable  IsGamer  RegionIdentifier  \\\n",
       "0                               1.0      0.0               6.0   \n",
       "1                               0.0      0.0              10.0   \n",
       "2                               0.0      1.0               6.0   \n",
       "3                               0.0      0.0              12.0   \n",
       "4                               0.0      1.0               7.0   \n",
       "\n",
       "               DateAS     DateOS  target  OSAge  Security_Coverage  \\\n",
       "0 2018-09-10 10:11:00 2018-04-17       0  146.0                1.0   \n",
       "1 2018-08-16 00:01:00 2018-08-14       1    2.0                1.0   \n",
       "2 2018-09-20 23:20:00 2018-09-11       1    9.0                1.0   \n",
       "3 2018-09-14 00:32:00 2018-01-03       1  254.0                0.5   \n",
       "4 2018-09-15 19:34:00 2018-09-11       0    4.0                0.5   \n",
       "\n",
       "   Firewall_Protection  RAM_Disk_Ratio  \n",
       "0                    1        0.068139  \n",
       "1                    1        0.004294  \n",
       "2                    1        0.035783  \n",
       "3                    1        0.004294  \n",
       "4                    1        0.006709  "
      ]
     },
     "execution_count": 26,
     "metadata": {},
     "output_type": "execute_result"
    }
   ],
   "source": [
    "df_train.head()"
   ]
  },
  {
   "cell_type": "code",
   "execution_count": 27,
   "id": "6b965fa5",
   "metadata": {
    "execution": {
     "iopub.execute_input": "2025-03-19T13:56:22.691952Z",
     "iopub.status.busy": "2025-03-19T13:56:22.691617Z",
     "iopub.status.idle": "2025-03-19T13:56:22.770014Z",
     "shell.execute_reply": "2025-03-19T13:56:22.769151Z"
    },
    "papermill": {
     "duration": 0.10515,
     "end_time": "2025-03-19T13:56:22.771993",
     "exception": false,
     "start_time": "2025-03-19T13:56:22.666843",
     "status": "completed"
    },
    "tags": []
   },
   "outputs": [],
   "source": [
    "df_train['OSReleaseStage'] = df_train['OSBranch'].apply(lambda x: x.split('_')[0] if isinstance(x, str) else np.nan)\n",
    "df_test['OSReleaseStage'] = df_test['OSBranch'].apply(lambda x: x.split('_')[0] if isinstance(x, str) else np.nan)\n",
    "\n",
    "df_train.drop(columns=['OSBranch'], inplace=True)\n",
    "df_test.drop(columns=['OSBranch'], inplace=True)"
   ]
  },
  {
   "cell_type": "code",
   "execution_count": 28,
   "id": "5398f631",
   "metadata": {
    "execution": {
     "iopub.execute_input": "2025-03-19T13:56:22.821359Z",
     "iopub.status.busy": "2025-03-19T13:56:22.821017Z",
     "iopub.status.idle": "2025-03-19T13:56:22.890966Z",
     "shell.execute_reply": "2025-03-19T13:56:22.889650Z"
    },
    "papermill": {
     "duration": 0.096785,
     "end_time": "2025-03-19T13:56:22.892881",
     "exception": false,
     "start_time": "2025-03-19T13:56:22.796096",
     "status": "completed"
    },
    "tags": []
   },
   "outputs": [],
   "source": [
    "device_map = {\n",
    "    'Windows.Desktop': 'Desktop',\n",
    "    'Windows.Server': 'Server'}\n",
    "\n",
    "df_train['DeviceType'] = df_train['DeviceFamily'].map(device_map)\n",
    "df_test['DeviceType'] = df_test['DeviceFamily'].map(device_map)\n",
    "\n",
    "df_train.drop(columns=['DeviceFamily'], inplace=True)\n",
    "df_test.drop(columns=['DeviceFamily'], inplace=True)"
   ]
  },
  {
   "cell_type": "code",
   "execution_count": 29,
   "id": "48126dba",
   "metadata": {
    "execution": {
     "iopub.execute_input": "2025-03-19T13:56:22.941666Z",
     "iopub.status.busy": "2025-03-19T13:56:22.941270Z",
     "iopub.status.idle": "2025-03-19T13:56:22.965004Z",
     "shell.execute_reply": "2025-03-19T13:56:22.963855Z"
    },
    "papermill": {
     "duration": 0.050127,
     "end_time": "2025-03-19T13:56:22.966993",
     "exception": false,
     "start_time": "2025-03-19T13:56:22.916866",
     "status": "completed"
    },
    "tags": []
   },
   "outputs": [],
   "source": [
    "def clean_license_activation(df):\n",
    "    rare_categories = ['Retail:TB:Eval', 'Volume:MAK', 'OEM:NONSLP']\n",
    "\n",
    "    df['LicenseActivationChannel'] = df['LicenseActivationChannel'].replace(rare_categories, 'Other')\n",
    "    return df\n",
    "\n",
    "df_train = clean_license_activation(df_train)\n",
    "df_test = clean_license_activation(df_test)"
   ]
  },
  {
   "cell_type": "code",
   "execution_count": 30,
   "id": "18d31c14",
   "metadata": {
    "execution": {
     "iopub.execute_input": "2025-03-19T13:56:23.016588Z",
     "iopub.status.busy": "2025-03-19T13:56:23.016196Z",
     "iopub.status.idle": "2025-03-19T13:56:23.054414Z",
     "shell.execute_reply": "2025-03-19T13:56:23.053274Z"
    },
    "papermill": {
     "duration": 0.065,
     "end_time": "2025-03-19T13:56:23.056414",
     "exception": false,
     "start_time": "2025-03-19T13:56:22.991414",
     "status": "completed"
    },
    "tags": []
   },
   "outputs": [],
   "source": [
    "#as OSBuildNumber already explains this\n",
    "\n",
    "df_train.drop(columns=['OSBuildLab'], inplace=True)\n",
    "df_test.drop(columns=['OSBuildLab'], inplace=True)\n"
   ]
  },
  {
   "cell_type": "code",
   "execution_count": 31,
   "id": "2639ea9e",
   "metadata": {
    "execution": {
     "iopub.execute_input": "2025-03-19T13:56:23.106960Z",
     "iopub.status.busy": "2025-03-19T13:56:23.106612Z",
     "iopub.status.idle": "2025-03-19T13:56:23.161649Z",
     "shell.execute_reply": "2025-03-19T13:56:23.160680Z"
    },
    "papermill": {
     "duration": 0.082602,
     "end_time": "2025-03-19T13:56:23.163523",
     "exception": false,
     "start_time": "2025-03-19T13:56:23.080921",
     "status": "completed"
    },
    "tags": []
   },
   "outputs": [],
   "source": [
    "#As OS Age is already calculated\n",
    "df_train = df_train.drop(columns=['DateAS', 'DateOS'])\n",
    "df_test = df_test.drop(columns=['DateAS', 'DateOS'])"
   ]
  },
  {
   "cell_type": "code",
   "execution_count": 32,
   "id": "739600aa",
   "metadata": {
    "execution": {
     "iopub.execute_input": "2025-03-19T13:56:23.213450Z",
     "iopub.status.busy": "2025-03-19T13:56:23.212983Z",
     "iopub.status.idle": "2025-03-19T13:56:23.995953Z",
     "shell.execute_reply": "2025-03-19T13:56:23.994823Z"
    },
    "papermill": {
     "duration": 0.80994,
     "end_time": "2025-03-19T13:56:23.997942",
     "exception": false,
     "start_time": "2025-03-19T13:56:23.188002",
     "status": "completed"
    },
    "tags": []
   },
   "outputs": [],
   "source": [
    "# Extracting major and minor version components\n",
    "def extract_version_features(df, col):\n",
    "    df[f'{col}_Major'] = df[col].apply(lambda x: int(x.split('.')[0]) if isinstance(x, str) else np.nan)\n",
    "    df[f'{col}_Minor'] = df[col].apply(lambda x: int(x.split('.')[1]) if isinstance(x, str) else np.nan)\n",
    "    df.drop(columns=[col], inplace=True)\n",
    "    return df\n",
    "\n",
    "for col in ['AppVersion', 'SignatureVersion']:\n",
    "    df_train = extract_version_features(df_train, col)\n",
    "    df_test = extract_version_features(df_test, col)\n",
    "\n",
    "def extract_version_features_(df, col):\n",
    "    df[f'{col}_Major'] = df[col].apply(lambda x: int(x.split('.')[2]) if isinstance(x, str) else np.nan)\n",
    "    df[f'{col}_Minor'] = df[col].apply(lambda x: int(x.split('.')[3]) if isinstance(x, str) else np.nan)\n",
    "    df.drop(columns=[col], inplace=True)\n",
    "    return df\n",
    "\n",
    "for col in ['EngineVersion', 'NumericOSVersion']:\n",
    "    df_train = extract_version_features_(df_train, col)\n",
    "    df_test = extract_version_features_(df_test, col)\n"
   ]
  },
  {
   "cell_type": "markdown",
   "id": "e6abd72d",
   "metadata": {
    "papermill": {
     "duration": 0.023344,
     "end_time": "2025-03-19T13:56:24.045221",
     "exception": false,
     "start_time": "2025-03-19T13:56:24.021877",
     "status": "completed"
    },
    "tags": []
   },
   "source": [
    "**Reduntant column Removal and Outlier Removal**"
   ]
  },
  {
   "cell_type": "code",
   "execution_count": 33,
   "id": "c0dd9eec",
   "metadata": {
    "execution": {
     "iopub.execute_input": "2025-03-19T13:56:24.095213Z",
     "iopub.status.busy": "2025-03-19T13:56:24.094872Z",
     "iopub.status.idle": "2025-03-19T13:56:24.182029Z",
     "shell.execute_reply": "2025-03-19T13:56:24.180870Z"
    },
    "papermill": {
     "duration": 0.114177,
     "end_time": "2025-03-19T13:56:24.183911",
     "exception": false,
     "start_time": "2025-03-19T13:56:24.069734",
     "status": "completed"
    },
    "tags": []
   },
   "outputs": [],
   "source": [
    "num_train = df_train.select_dtypes(include=['int64','float64'])\n",
    "num_train = num_train.drop(columns=['target'])\n",
    "cat_train = df_train.select_dtypes(include=['object'])\n",
    "\n",
    "num_test = df_test.select_dtypes(include=['int64','float64'])\n",
    "cat_test = df_test.select_dtypes(include=['object'])"
   ]
  },
  {
   "cell_type": "code",
   "execution_count": 34,
   "id": "efcbad2d",
   "metadata": {
    "execution": {
     "iopub.execute_input": "2025-03-19T13:56:24.234045Z",
     "iopub.status.busy": "2025-03-19T13:56:24.233708Z",
     "iopub.status.idle": "2025-03-19T13:56:24.439324Z",
     "shell.execute_reply": "2025-03-19T13:56:24.438362Z"
    },
    "papermill": {
     "duration": 0.233029,
     "end_time": "2025-03-19T13:56:24.441168",
     "exception": false,
     "start_time": "2025-03-19T13:56:24.208139",
     "status": "completed"
    },
    "tags": []
   },
   "outputs": [],
   "source": [
    "constant_cols = [col for col in df_train.columns if df_train[col].nunique() == 1]\n",
    "df_train.drop(constant_cols, axis=1, inplace=True)\n",
    "df_test.drop(constant_cols, axis=1, inplace=True)"
   ]
  },
  {
   "cell_type": "code",
   "execution_count": 35,
   "id": "f0181752",
   "metadata": {
    "execution": {
     "iopub.execute_input": "2025-03-19T13:56:24.491119Z",
     "iopub.status.busy": "2025-03-19T13:56:24.490782Z",
     "iopub.status.idle": "2025-03-19T13:56:24.496286Z",
     "shell.execute_reply": "2025-03-19T13:56:24.495285Z"
    },
    "papermill": {
     "duration": 0.032607,
     "end_time": "2025-03-19T13:56:24.497876",
     "exception": false,
     "start_time": "2025-03-19T13:56:24.465269",
     "status": "completed"
    },
    "tags": []
   },
   "outputs": [
    {
     "data": {
      "text/plain": [
       "['IsBetaUser',\n",
       " 'AutoSampleSubmissionEnabled',\n",
       " 'IsFlightsDisabled',\n",
       " 'AppVersion_Major',\n",
       " 'SignatureVersion_Major']"
      ]
     },
     "execution_count": 35,
     "metadata": {},
     "output_type": "execute_result"
    }
   ],
   "source": [
    "constant_cols"
   ]
  },
  {
   "cell_type": "code",
   "execution_count": 36,
   "id": "64fe8b41",
   "metadata": {
    "execution": {
     "iopub.execute_input": "2025-03-19T13:56:24.548636Z",
     "iopub.status.busy": "2025-03-19T13:56:24.548263Z",
     "iopub.status.idle": "2025-03-19T13:56:24.694735Z",
     "shell.execute_reply": "2025-03-19T13:56:24.693593Z"
    },
    "papermill": {
     "duration": 0.174502,
     "end_time": "2025-03-19T13:56:24.696636",
     "exception": false,
     "start_time": "2025-03-19T13:56:24.522134",
     "status": "completed"
    },
    "tags": []
   },
   "outputs": [
    {
     "name": "stderr",
     "output_type": "stream",
     "text": [
      "/usr/local/lib/python3.10/dist-packages/pandas/core/computation/expressions.py:73: RuntimeWarning: invalid value encountered in greater_equal\n",
      "  return op(a, b)\n",
      "/usr/local/lib/python3.10/dist-packages/pandas/core/computation/expressions.py:73: RuntimeWarning: invalid value encountered in less_equal\n",
      "  return op(a, b)\n",
      "/usr/local/lib/python3.10/dist-packages/pandas/core/computation/expressions.py:73: RuntimeWarning: invalid value encountered in greater_equal\n",
      "  return op(a, b)\n",
      "/usr/local/lib/python3.10/dist-packages/pandas/core/computation/expressions.py:73: RuntimeWarning: invalid value encountered in less_equal\n",
      "  return op(a, b)\n",
      "/usr/local/lib/python3.10/dist-packages/pandas/core/computation/expressions.py:73: RuntimeWarning: invalid value encountered in greater_equal\n",
      "  return op(a, b)\n",
      "/usr/local/lib/python3.10/dist-packages/pandas/core/computation/expressions.py:73: RuntimeWarning: invalid value encountered in less_equal\n",
      "  return op(a, b)\n"
     ]
    }
   ],
   "source": [
    "#Outlier Removal\n",
    "\n",
    "#Continuous numerical variables are choosen\n",
    "\n",
    "iqr_features = [\n",
    "    'TotalPhysicalRAMMB', 'PrimaryDisplayDiagonalInches',\n",
    "                'ProcessorCoreCount', 'PrimaryDisplayResolutionHorizontal'\n",
    "]\n",
    "\n",
    "# IQR\n",
    "def remove_outliers_iqr(df_train, column):\n",
    "    Q1 = df_train[column].quantile(0.25)\n",
    "    Q3 = df_train[column].quantile(0.75)\n",
    "    IQR = Q3 - Q1\n",
    "    lower_bound = Q1 - 3 * IQR\n",
    "    upper_bound = Q3 + 3 * IQR\n",
    "    return df_train[(df_train[column] >= lower_bound) & (df_train[column] <= upper_bound)]\n",
    "\n",
    "for col in iqr_features:\n",
    "    df_train = remove_outliers_iqr(df_train, col)"
   ]
  },
  {
   "cell_type": "code",
   "execution_count": 37,
   "id": "0779e098",
   "metadata": {
    "execution": {
     "iopub.execute_input": "2025-03-19T13:56:24.746026Z",
     "iopub.status.busy": "2025-03-19T13:56:24.745687Z",
     "iopub.status.idle": "2025-03-19T13:56:25.801432Z",
     "shell.execute_reply": "2025-03-19T13:56:25.799907Z"
    },
    "papermill": {
     "duration": 1.082897,
     "end_time": "2025-03-19T13:56:25.803587",
     "exception": false,
     "start_time": "2025-03-19T13:56:24.720690",
     "status": "completed"
    },
    "tags": []
   },
   "outputs": [
    {
     "name": "stdout",
     "output_type": "stream",
     "text": [
      "Correlated Feature Pairs:\n",
      "('IsPassiveModeEnabled', 'RealTimeProtectionState')\n",
      "('ProcessorModelID', 'ProcessorManufacturerID')\n",
      "('PrimaryDisplayResolutionVertical', 'PrimaryDisplayResolutionHorizontal')\n",
      "('OSBuildNumberOnly', 'OSBuildNumber')\n",
      "('OSUILocaleID', 'OSInstallLanguageID')\n",
      "('Security_Coverage', 'NumAntivirusProductsInstalled')\n",
      "('Firewall_Protection', 'FirewallEnabled')\n",
      "('EngineVersion_Major', 'SignatureVersion_Minor')\n",
      "('NumericOSVersion_Major', 'OSBuildNumber')\n",
      "('NumericOSVersion_Major', 'OSBuildNumberOnly')\n",
      "('NumericOSVersion_Minor', 'OSBuildRevisionOnly')\n",
      "{'ProcessorModelID', 'NumericOSVersion_Major', 'Security_Coverage', 'Firewall_Protection', 'IsPassiveModeEnabled', 'NumericOSVersion_Minor', 'EngineVersion_Major', 'OSUILocaleID', 'OSBuildNumberOnly', 'PrimaryDisplayResolutionVertical'}\n"
     ]
    }
   ],
   "source": [
    "#Removing redundant features \n",
    "\n",
    "threshold = 0.8\n",
    "correlation_matrix = num_train.corr()\n",
    "# Find correlated features\n",
    "correlated_pairs = []\n",
    "correlated_features = set()\n",
    "\n",
    "\n",
    "for i in range(len(correlation_matrix.columns)):\n",
    "    for j in range(i):\n",
    "        if abs(correlation_matrix.iloc[i, j]) > threshold:\n",
    "            colname1 = correlation_matrix.columns[i]\n",
    "            colname2 = correlation_matrix.columns[j]\n",
    "            correlated_pairs.append((colname1, colname2))\n",
    "            correlated_features.add(colname1)  # Remove only one from each pair\n",
    "\n",
    "\n",
    "# Display correlated pairs before dropping\n",
    "print(\"Correlated Feature Pairs:\")\n",
    "for pair in correlated_pairs:\n",
    "    print(pair)\n",
    "\n",
    "\n",
    "# Drop correlated features\n",
    "df_train = df_train.drop(columns=correlated_features)\n",
    "df_test = df_test.drop(columns=correlated_features)\n",
    "\n",
    "#columns that are removed\n",
    "print(correlated_features)"
   ]
  },
  {
   "cell_type": "markdown",
   "id": "7b0b8e80",
   "metadata": {
    "papermill": {
     "duration": 0.024093,
     "end_time": "2025-03-19T13:56:25.852311",
     "exception": false,
     "start_time": "2025-03-19T13:56:25.828218",
     "status": "completed"
    },
    "tags": []
   },
   "source": [
    "# Preprocessing and Scaling"
   ]
  },
  {
   "cell_type": "code",
   "execution_count": 38,
   "id": "64c83069",
   "metadata": {
    "execution": {
     "iopub.execute_input": "2025-03-19T13:56:25.904179Z",
     "iopub.status.busy": "2025-03-19T13:56:25.903789Z",
     "iopub.status.idle": "2025-03-19T13:56:25.933062Z",
     "shell.execute_reply": "2025-03-19T13:56:25.931880Z"
    },
    "papermill": {
     "duration": 0.058348,
     "end_time": "2025-03-19T13:56:25.935057",
     "exception": false,
     "start_time": "2025-03-19T13:56:25.876709",
     "status": "completed"
    },
    "tags": []
   },
   "outputs": [],
   "source": [
    "X_train = df_train.drop(columns=['target'])\n",
    "X_test = df_test\n",
    "y_train = df_train['target']"
   ]
  },
  {
   "cell_type": "code",
   "execution_count": 39,
   "id": "104c4c3c",
   "metadata": {
    "execution": {
     "iopub.execute_input": "2025-03-19T13:56:25.985981Z",
     "iopub.status.busy": "2025-03-19T13:56:25.985619Z",
     "iopub.status.idle": "2025-03-19T13:56:25.991999Z",
     "shell.execute_reply": "2025-03-19T13:56:25.991103Z"
    },
    "papermill": {
     "duration": 0.034275,
     "end_time": "2025-03-19T13:56:25.993779",
     "exception": false,
     "start_time": "2025-03-19T13:56:25.959504",
     "status": "completed"
    },
    "tags": []
   },
   "outputs": [
    {
     "data": {
      "text/plain": [
       "Index(['ProductName', 'RealTimeProtectionState', 'AntivirusConfigID',\n",
       "       'NumAntivirusProductsInstalled', 'NumAntivirusProductsEnabled',\n",
       "       'HasTpm', 'CountryID', 'CityID', 'GeoRegionID', 'LocaleEnglishNameID',\n",
       "       'PlatformType', 'Processor', 'OSVersion', 'OSBuildNumber',\n",
       "       'OSProductSuite', 'OsPlatformSubRelease', 'SKUEditionName',\n",
       "       'IsSystemProtected', 'SMode', 'IEVersionID', 'FirewallEnabled',\n",
       "       'EnableLUA', 'MDC2FormFactor', 'OEMNameID', 'OEMModelID',\n",
       "       'ProcessorCoreCount', 'ProcessorManufacturerID',\n",
       "       'PrimaryDiskCapacityMB', 'PrimaryDiskType', 'SystemVolumeCapacityMB',\n",
       "       'HasOpticalDiskDrive', 'TotalPhysicalRAMMB', 'ChassisType',\n",
       "       'PrimaryDisplayDiagonalInches', 'PrimaryDisplayResolutionHorizontal',\n",
       "       'PowerPlatformRole', 'InternalBatteryNumberOfCharges', 'OSArchitecture',\n",
       "       'OSBuildRevisionOnly', 'OSEdition', 'OSSkuFriendlyName',\n",
       "       'OSInstallType', 'OSInstallLanguageID', 'AutoUpdateOptionsName',\n",
       "       'IsPortableOS', 'OSGenuineState', 'LicenseActivationChannel',\n",
       "       'FlightRing', 'FirmwareManufacturerID', 'FirmwareVersionID',\n",
       "       'IsSecureBootEnabled', 'IsVirtualDevice', 'IsTouchEnabled',\n",
       "       'IsPenCapable', 'IsAlwaysOnAlwaysConnectedCapable', 'IsGamer',\n",
       "       'RegionIdentifier', 'OSAge', 'RAM_Disk_Ratio', 'OSReleaseStage',\n",
       "       'DeviceType', 'AppVersion_Minor', 'SignatureVersion_Minor',\n",
       "       'EngineVersion_Minor'],\n",
       "      dtype='object')"
      ]
     },
     "execution_count": 39,
     "metadata": {},
     "output_type": "execute_result"
    }
   ],
   "source": [
    "X_train.columns"
   ]
  },
  {
   "cell_type": "code",
   "execution_count": 40,
   "id": "55bbfc05",
   "metadata": {
    "execution": {
     "iopub.execute_input": "2025-03-19T13:56:26.045125Z",
     "iopub.status.busy": "2025-03-19T13:56:26.044759Z",
     "iopub.status.idle": "2025-03-19T13:56:26.050138Z",
     "shell.execute_reply": "2025-03-19T13:56:26.049336Z"
    },
    "papermill": {
     "duration": 0.032975,
     "end_time": "2025-03-19T13:56:26.051766",
     "exception": false,
     "start_time": "2025-03-19T13:56:26.018791",
     "status": "completed"
    },
    "tags": []
   },
   "outputs": [
    {
     "data": {
      "text/plain": [
       "(95565, 64)"
      ]
     },
     "execution_count": 40,
     "metadata": {},
     "output_type": "execute_result"
    }
   ],
   "source": [
    "X_train.shape"
   ]
  },
  {
   "cell_type": "code",
   "execution_count": 41,
   "id": "de5b3742",
   "metadata": {
    "execution": {
     "iopub.execute_input": "2025-03-19T13:56:26.107369Z",
     "iopub.status.busy": "2025-03-19T13:56:26.107002Z",
     "iopub.status.idle": "2025-03-19T13:56:26.112782Z",
     "shell.execute_reply": "2025-03-19T13:56:26.111969Z"
    },
    "papermill": {
     "duration": 0.037473,
     "end_time": "2025-03-19T13:56:26.114106",
     "exception": false,
     "start_time": "2025-03-19T13:56:26.076633",
     "status": "completed"
    },
    "tags": []
   },
   "outputs": [
    {
     "data": {
      "text/plain": [
       "(10000, 64)"
      ]
     },
     "execution_count": 41,
     "metadata": {},
     "output_type": "execute_result"
    }
   ],
   "source": [
    "X_test.shape"
   ]
  },
  {
   "cell_type": "code",
   "execution_count": 42,
   "id": "c97fb665",
   "metadata": {
    "execution": {
     "iopub.execute_input": "2025-03-19T13:56:26.165911Z",
     "iopub.status.busy": "2025-03-19T13:56:26.165580Z",
     "iopub.status.idle": "2025-03-19T13:56:26.171213Z",
     "shell.execute_reply": "2025-03-19T13:56:26.170205Z"
    },
    "papermill": {
     "duration": 0.034476,
     "end_time": "2025-03-19T13:56:26.173065",
     "exception": false,
     "start_time": "2025-03-19T13:56:26.138589",
     "status": "completed"
    },
    "tags": []
   },
   "outputs": [
    {
     "data": {
      "text/plain": [
       "(95565,)"
      ]
     },
     "execution_count": 42,
     "metadata": {},
     "output_type": "execute_result"
    }
   ],
   "source": [
    "y_train.shape"
   ]
  },
  {
   "cell_type": "code",
   "execution_count": 43,
   "id": "bc674770",
   "metadata": {
    "execution": {
     "iopub.execute_input": "2025-03-19T13:56:26.224243Z",
     "iopub.status.busy": "2025-03-19T13:56:26.223900Z",
     "iopub.status.idle": "2025-03-19T13:56:26.793747Z",
     "shell.execute_reply": "2025-03-19T13:56:26.792658Z"
    },
    "papermill": {
     "duration": 0.597618,
     "end_time": "2025-03-19T13:56:26.795536",
     "exception": false,
     "start_time": "2025-03-19T13:56:26.197918",
     "status": "completed"
    },
    "tags": []
   },
   "outputs": [],
   "source": [
    "import numpy as np\n",
    "import pandas as pd\n",
    "from sklearn.pipeline import Pipeline\n",
    "from sklearn.compose import ColumnTransformer\n",
    "from sklearn.impute import SimpleImputer\n",
    "from sklearn.preprocessing import OneHotEncoder, RobustScaler\n",
    "\n",
    "# === Feature Categories ===\n",
    "numerical_features = [\n",
    "    'RealTimeProtectionState', 'NumAntivirusProductsInstalled', 'NumAntivirusProductsEnabled',\n",
    "    'SMode', 'ProcessorCoreCount', 'PrimaryDiskCapacityMB', 'SystemVolumeCapacityMB',\n",
    "    'TotalPhysicalRAMMB', 'PrimaryDisplayDiagonalInches', 'PrimaryDisplayResolutionHorizontal',\n",
    "    'PrimaryDisplayResolutionVertical', 'InternalBatteryNumberOfCharges', 'OSBuildRevisionOnly',\n",
    "    'OSAge', 'RAM_Disk_Ratio'\n",
    "]\n",
    "\n",
    "categorical_features = [\n",
    "    'ProductName', 'PlatformType', 'Processor', 'OSVersion', 'OsPlatformSubRelease',\n",
    "    'SKUEditionName', 'MDC2FormFactor', 'PrimaryDiskType', 'ChassisType', 'PowerPlatformRole',\n",
    "    'OSArchitecture', 'OSEdition', 'OSSkuFriendlyName', 'OSInstallType', 'AutoUpdateOptionsName',\n",
    "    'OSGenuineState', 'LicenseActivationChannel', 'FlightRing', 'OSReleaseStage', 'DeviceType'\n",
    "]\n",
    "\n",
    "id_like_categoricals = [\n",
    "    'CountryID', 'CityID', 'AntivirusConfigID', 'LocaleEnglishNameID', 'OEMNameID', 'OEMModelID',\n",
    "    'ProcessorManufacturerID', 'ProcessorModelID', 'FirmwareManufacturerID', 'FirmwareVersionID',\n",
    "    'OSInstallLanguageID', 'IEVersionID', 'RegionIdentifier'\n",
    "]\n",
    "\n",
    "binary_features = [\n",
    "    'HasTpm', 'HasOpticalDiskDrive', 'IsPortableOS', 'IsSecureBootEnabled',\n",
    "    'IsTouchEnabled', 'IsPenCapable', 'IsAlwaysOnAlwaysConnectedCapable',\n",
    "    'IsVirtualDevice', 'IsGamer', 'IsSystemProtected', 'EnableLUA',\n",
    "    'FirewallEnabled'\n",
    "]\n",
    "\n",
    "# === Remove Unwanted Features ===\n",
    "excluded_features = {\n",
    "    'OSUILocaleID', 'NumericOSVersion_Minor', 'EngineVersion_Major', 'IsPassiveModeEnabled', \n",
    "    'OSBuildNumberOnly', 'Firewall_Protection', 'NumericOSVersion_Major', 'ProcessorModelID', \n",
    "    'PrimaryDisplayResolutionVertical', 'Security_Coverage'\n",
    "}\n",
    "\n",
    "numerical_features = [col for col in numerical_features if col not in excluded_features]\n",
    "categorical_features = [col for col in categorical_features if col not in excluded_features]\n",
    "id_like_categoricals = [col for col in id_like_categoricals if col not in excluded_features]\n",
    "binary_features = [col for col in binary_features if col not in excluded_features]\n",
    "\n"
   ]
  },
  {
   "cell_type": "code",
   "execution_count": 44,
   "id": "096886ec",
   "metadata": {
    "execution": {
     "iopub.execute_input": "2025-03-19T13:56:26.846943Z",
     "iopub.status.busy": "2025-03-19T13:56:26.846601Z",
     "iopub.status.idle": "2025-03-19T13:56:26.985617Z",
     "shell.execute_reply": "2025-03-19T13:56:26.984719Z"
    },
    "papermill": {
     "duration": 0.166946,
     "end_time": "2025-03-19T13:56:26.987414",
     "exception": false,
     "start_time": "2025-03-19T13:56:26.820468",
     "status": "completed"
    },
    "tags": []
   },
   "outputs": [],
   "source": [
    "# Filter Only Existing Columns\n",
    "valid_categoricals = [col for col in categorical_features + id_like_categoricals if col in X_train.columns]\n",
    "\n",
    "# Check the number of unique values in each categorical feature\n",
    "unique_counts = X_train[valid_categoricals].nunique()\n",
    "\n",
    "# Low-cardinality categorical features (for One-Hot Encoding)\n",
    "low_card_categoricals = unique_counts[unique_counts <= 10].index.tolist()\n",
    "\n",
    "# High-cardinality categorical features (for Frequency Encoding)\n",
    "high_card_categoricals = unique_counts[unique_counts > 10].index.tolist()\n",
    "\n",
    "# Ensure features exist in the dataset\n",
    "low_card_categoricals = [col for col in low_card_categoricals if col in X_train.columns]\n",
    "high_card_categoricals = [col for col in high_card_categoricals if col in X_train.columns]\n",
    "\n"
   ]
  },
  {
   "cell_type": "code",
   "execution_count": 45,
   "id": "30a5a17d",
   "metadata": {
    "execution": {
     "iopub.execute_input": "2025-03-19T13:56:27.038483Z",
     "iopub.status.busy": "2025-03-19T13:56:27.038068Z",
     "iopub.status.idle": "2025-03-19T13:56:27.211326Z",
     "shell.execute_reply": "2025-03-19T13:56:27.210279Z"
    },
    "papermill": {
     "duration": 0.200868,
     "end_time": "2025-03-19T13:56:27.213236",
     "exception": false,
     "start_time": "2025-03-19T13:56:27.012368",
     "status": "completed"
    },
    "tags": []
   },
   "outputs": [
    {
     "name": "stderr",
     "output_type": "stream",
     "text": [
      "<ipython-input-45-42f8a47460d1>:5: FutureWarning: A value is trying to be set on a copy of a DataFrame or Series through chained assignment using an inplace method.\n",
      "The behavior will change in pandas 3.0. This inplace method will never work because the intermediate object on which we are setting values always behaves as a copy.\n",
      "\n",
      "For example, when doing 'df[col].method(value, inplace=True)', try using 'df.method({col: value}, inplace=True)' or df[col] = df[col].method(value) instead, to perform the operation inplace on the original object.\n",
      "\n",
      "\n",
      "  X_train[col].fillna(most_frequent, inplace=True)\n",
      "<ipython-input-45-42f8a47460d1>:6: FutureWarning: A value is trying to be set on a copy of a DataFrame or Series through chained assignment using an inplace method.\n",
      "The behavior will change in pandas 3.0. This inplace method will never work because the intermediate object on which we are setting values always behaves as a copy.\n",
      "\n",
      "For example, when doing 'df[col].method(value, inplace=True)', try using 'df.method({col: value}, inplace=True)' or df[col] = df[col].method(value) instead, to perform the operation inplace on the original object.\n",
      "\n",
      "\n",
      "  X_test[col].fillna(most_frequent, inplace=True)\n",
      "<ipython-input-45-42f8a47460d1>:5: FutureWarning: A value is trying to be set on a copy of a DataFrame or Series through chained assignment using an inplace method.\n",
      "The behavior will change in pandas 3.0. This inplace method will never work because the intermediate object on which we are setting values always behaves as a copy.\n",
      "\n",
      "For example, when doing 'df[col].method(value, inplace=True)', try using 'df.method({col: value}, inplace=True)' or df[col] = df[col].method(value) instead, to perform the operation inplace on the original object.\n",
      "\n",
      "\n",
      "  X_train[col].fillna(most_frequent, inplace=True)\n",
      "<ipython-input-45-42f8a47460d1>:6: FutureWarning: A value is trying to be set on a copy of a DataFrame or Series through chained assignment using an inplace method.\n",
      "The behavior will change in pandas 3.0. This inplace method will never work because the intermediate object on which we are setting values always behaves as a copy.\n",
      "\n",
      "For example, when doing 'df[col].method(value, inplace=True)', try using 'df.method({col: value}, inplace=True)' or df[col] = df[col].method(value) instead, to perform the operation inplace on the original object.\n",
      "\n",
      "\n",
      "  X_test[col].fillna(most_frequent, inplace=True)\n",
      "<ipython-input-45-42f8a47460d1>:5: FutureWarning: A value is trying to be set on a copy of a DataFrame or Series through chained assignment using an inplace method.\n",
      "The behavior will change in pandas 3.0. This inplace method will never work because the intermediate object on which we are setting values always behaves as a copy.\n",
      "\n",
      "For example, when doing 'df[col].method(value, inplace=True)', try using 'df.method({col: value}, inplace=True)' or df[col] = df[col].method(value) instead, to perform the operation inplace on the original object.\n",
      "\n",
      "\n",
      "  X_train[col].fillna(most_frequent, inplace=True)\n",
      "<ipython-input-45-42f8a47460d1>:6: FutureWarning: A value is trying to be set on a copy of a DataFrame or Series through chained assignment using an inplace method.\n",
      "The behavior will change in pandas 3.0. This inplace method will never work because the intermediate object on which we are setting values always behaves as a copy.\n",
      "\n",
      "For example, when doing 'df[col].method(value, inplace=True)', try using 'df.method({col: value}, inplace=True)' or df[col] = df[col].method(value) instead, to perform the operation inplace on the original object.\n",
      "\n",
      "\n",
      "  X_test[col].fillna(most_frequent, inplace=True)\n"
     ]
    }
   ],
   "source": [
    "# === Impute Missing Values in High-Cardinality Categoricals ===\n",
    "for col in high_card_categoricals:\n",
    "    if col in X_train:\n",
    "        most_frequent = X_train[col].mode()[0]  # Get most frequent value\n",
    "        X_train[col].fillna(most_frequent, inplace=True)\n",
    "        X_test[col].fillna(most_frequent, inplace=True)\n",
    "\n",
    "# === Frequency Encoding for High-Cardinality Categoricals ===\n",
    "freq_maps = {}\n",
    "for col in high_card_categoricals:\n",
    "    if col in X_train:\n",
    "        freq_map = X_train[col].value_counts(normalize=True)\n",
    "        freq_maps[col] = freq_map\n",
    "        X_train[col] = X_train[col].map(freq_map).fillna(0)  \n",
    "        X_test[col] = X_test[col].map(freq_map).fillna(0)  \n",
    "\n"
   ]
  },
  {
   "cell_type": "code",
   "execution_count": 46,
   "id": "ff918dc8",
   "metadata": {
    "execution": {
     "iopub.execute_input": "2025-03-19T13:56:27.264744Z",
     "iopub.status.busy": "2025-03-19T13:56:27.264335Z",
     "iopub.status.idle": "2025-03-19T13:56:28.702929Z",
     "shell.execute_reply": "2025-03-19T13:56:28.701799Z"
    },
    "papermill": {
     "duration": 1.4666,
     "end_time": "2025-03-19T13:56:28.704522",
     "exception": false,
     "start_time": "2025-03-19T13:56:27.237922",
     "status": "completed"
    },
    "tags": []
   },
   "outputs": [
    {
     "name": "stdout",
     "output_type": "stream",
     "text": [
      "Nulls in X_train_transformed_df: 0\n",
      "Nulls in X_test_transformed_df: 1\n",
      "Original X_train shape: (95565, 64)\n",
      "Transformed X_train shape: (95565, 148)\n"
     ]
    }
   ],
   "source": [
    "# === Pipelines for Feature Transformation ===\n",
    "# Numerical Features: Median Imputation + Robust Scaling\n",
    "numerical_pipeline = Pipeline([\n",
    "    ('impute', SimpleImputer(strategy='median')),\n",
    "    ('scale', RobustScaler())\n",
    "])\n",
    "\n",
    "# Binary Features: Mode Imputation (since binary values are categorical)\n",
    "binary_pipeline = Pipeline([\n",
    "    ('impute', SimpleImputer(strategy='most_frequent'))\n",
    "])\n",
    "\n",
    "# Low-Cardinality Categorical Features: Mode Imputation + One-Hot Encoding\n",
    "low_card_pipeline = Pipeline([\n",
    "    ('impute', SimpleImputer(strategy='most_frequent')),\n",
    "    ('onehot', OneHotEncoder(handle_unknown='ignore', sparse_output=False))\n",
    "])\n",
    "\n",
    "# === Column Transformer ===\n",
    "preprocessor = ColumnTransformer([\n",
    "    ('num', numerical_pipeline, numerical_features),\n",
    "    ('low_card', low_card_pipeline, low_card_categoricals),\n",
    "    ('binary', binary_pipeline, binary_features)\n",
    "], remainder='passthrough')\n",
    "\n",
    "\n",
    "X_train_transformed = preprocessor.fit_transform(X_train, y_train)\n",
    "X_test_transformed = preprocessor.transform(X_test)\n",
    "\n",
    "\n",
    "X_train_transformed_df = pd.DataFrame(X_train_transformed)\n",
    "X_test_transformed_df = pd.DataFrame(X_test_transformed)\n",
    "\n",
    "#  Check for Missing Values\n",
    "print(\"Nulls in X_train_transformed_df:\", X_train_transformed_df.isna().sum().sum())\n",
    "print(\"Nulls in X_test_transformed_df:\", X_test_transformed_df.isna().sum().sum())\n",
    "\n",
    "\n",
    "print(\"Original X_train shape:\", X_train.shape)\n",
    "print(\"Transformed X_train shape:\", X_train_transformed_df.shape)"
   ]
  },
  {
   "cell_type": "code",
   "execution_count": 47,
   "id": "d9f140a7",
   "metadata": {
    "execution": {
     "iopub.execute_input": "2025-03-19T13:56:28.755957Z",
     "iopub.status.busy": "2025-03-19T13:56:28.755626Z",
     "iopub.status.idle": "2025-03-19T13:56:28.777478Z",
     "shell.execute_reply": "2025-03-19T13:56:28.776325Z"
    },
    "papermill": {
     "duration": 0.049605,
     "end_time": "2025-03-19T13:56:28.779271",
     "exception": false,
     "start_time": "2025-03-19T13:56:28.729666",
     "status": "completed"
    },
    "tags": []
   },
   "outputs": [
    {
     "name": "stdout",
     "output_type": "stream",
     "text": [
      "Nulls in X_test_transformed_df after fix: 0\n"
     ]
    },
    {
     "name": "stderr",
     "output_type": "stream",
     "text": [
      "<ipython-input-47-aa284e67d551>:5: FutureWarning: A value is trying to be set on a copy of a DataFrame or Series through chained assignment using an inplace method.\n",
      "The behavior will change in pandas 3.0. This inplace method will never work because the intermediate object on which we are setting values always behaves as a copy.\n",
      "\n",
      "For example, when doing 'df[col].method(value, inplace=True)', try using 'df.method({col: value}, inplace=True)' or df[col] = df[col].method(value) instead, to perform the operation inplace on the original object.\n",
      "\n",
      "\n",
      "  X_test_transformed_df[nan_column].fillna(X_train_transformed_df[nan_column].mean(), inplace=True)\n"
     ]
    }
   ],
   "source": [
    "# Find the column with NaN\n",
    "nan_column = X_test_transformed_df.columns[X_test_transformed_df.isna().sum() > 0][0]\n",
    "\n",
    "# Replace NaN with the mean of the column from X_train_transformed_df\n",
    "X_test_transformed_df[nan_column].fillna(X_train_transformed_df[nan_column].mean(), inplace=True)\n",
    "\n",
    "# Verify that no NaNs remain\n",
    "print(\"Nulls in X_test_transformed_df after fix:\", X_test_transformed_df.isna().sum().sum())  # Should print 0\n"
   ]
  },
  {
   "cell_type": "code",
   "execution_count": 48,
   "id": "99a83f2b",
   "metadata": {
    "execution": {
     "iopub.execute_input": "2025-03-19T13:56:28.830962Z",
     "iopub.status.busy": "2025-03-19T13:56:28.830626Z",
     "iopub.status.idle": "2025-03-19T13:56:28.843400Z",
     "shell.execute_reply": "2025-03-19T13:56:28.842212Z"
    },
    "papermill": {
     "duration": 0.04069,
     "end_time": "2025-03-19T13:56:28.844949",
     "exception": false,
     "start_time": "2025-03-19T13:56:28.804259",
     "status": "completed"
    },
    "tags": []
   },
   "outputs": [
    {
     "name": "stdout",
     "output_type": "stream",
     "text": [
      "<class 'pandas.core.frame.DataFrame'>\n",
      "RangeIndex: 10000 entries, 0 to 9999\n",
      "Columns: 148 entries, 0 to 147\n",
      "dtypes: float64(148)\n",
      "memory usage: 11.3 MB\n"
     ]
    }
   ],
   "source": [
    "X_test_transformed_df.info()"
   ]
  },
  {
   "cell_type": "code",
   "execution_count": 49,
   "id": "94dbdf22",
   "metadata": {
    "execution": {
     "iopub.execute_input": "2025-03-19T13:56:28.896172Z",
     "iopub.status.busy": "2025-03-19T13:56:28.895833Z",
     "iopub.status.idle": "2025-03-19T13:56:28.902189Z",
     "shell.execute_reply": "2025-03-19T13:56:28.901157Z"
    },
    "papermill": {
     "duration": 0.033793,
     "end_time": "2025-03-19T13:56:28.903802",
     "exception": false,
     "start_time": "2025-03-19T13:56:28.870009",
     "status": "completed"
    },
    "tags": []
   },
   "outputs": [
    {
     "data": {
      "text/plain": [
       "0    0\n",
       "1    1\n",
       "2    1\n",
       "3    1\n",
       "4    0\n",
       "Name: target, dtype: int64"
      ]
     },
     "execution_count": 49,
     "metadata": {},
     "output_type": "execute_result"
    }
   ],
   "source": [
    "y_train.head()"
   ]
  },
  {
   "cell_type": "code",
   "execution_count": 50,
   "id": "462e0b5b",
   "metadata": {
    "execution": {
     "iopub.execute_input": "2025-03-19T13:56:29.011283Z",
     "iopub.status.busy": "2025-03-19T13:56:29.010922Z",
     "iopub.status.idle": "2025-03-19T13:56:29.016749Z",
     "shell.execute_reply": "2025-03-19T13:56:29.015749Z"
    },
    "papermill": {
     "duration": 0.033611,
     "end_time": "2025-03-19T13:56:29.018532",
     "exception": false,
     "start_time": "2025-03-19T13:56:28.984921",
     "status": "completed"
    },
    "tags": []
   },
   "outputs": [
    {
     "name": "stdout",
     "output_type": "stream",
     "text": [
      "Missing values in y_train: 0\n"
     ]
    }
   ],
   "source": [
    "print(\"Missing values in y_train:\", y_train.isna().sum())\n"
   ]
  },
  {
   "cell_type": "markdown",
   "id": "ca72b7da",
   "metadata": {
    "papermill": {
     "duration": 0.025112,
     "end_time": "2025-03-19T13:56:29.068848",
     "exception": false,
     "start_time": "2025-03-19T13:56:29.043736",
     "status": "completed"
    },
    "tags": []
   },
   "source": [
    "# Model Selection"
   ]
  },
  {
   "cell_type": "code",
   "execution_count": 51,
   "id": "2a9ab71e",
   "metadata": {
    "execution": {
     "iopub.execute_input": "2025-03-19T13:56:29.121407Z",
     "iopub.status.busy": "2025-03-19T13:56:29.120982Z",
     "iopub.status.idle": "2025-03-19T13:56:29.213604Z",
     "shell.execute_reply": "2025-03-19T13:56:29.212497Z"
    },
    "papermill": {
     "duration": 0.121457,
     "end_time": "2025-03-19T13:56:29.215684",
     "exception": false,
     "start_time": "2025-03-19T13:56:29.094227",
     "status": "completed"
    },
    "tags": []
   },
   "outputs": [],
   "source": [
    "from sklearn.model_selection import train_test_split\n",
    "\n",
    "# Split the transformed training data into train and validation sets\n",
    "X_train_final, X_val, y_train_final, y_val = train_test_split(\n",
    "    X_train_transformed_df, y_train, test_size=0.2, random_state=42, stratify=y_train\n",
    ")\n"
   ]
  },
  {
   "cell_type": "code",
   "execution_count": 52,
   "id": "2b7c35c8",
   "metadata": {
    "execution": {
     "iopub.execute_input": "2025-03-19T13:56:29.301601Z",
     "iopub.status.busy": "2025-03-19T13:56:29.301188Z",
     "iopub.status.idle": "2025-03-19T13:56:35.818344Z",
     "shell.execute_reply": "2025-03-19T13:56:35.817164Z"
    },
    "papermill": {
     "duration": 6.562051,
     "end_time": "2025-03-19T13:56:35.820136",
     "exception": false,
     "start_time": "2025-03-19T13:56:29.258085",
     "status": "completed"
    },
    "tags": []
   },
   "outputs": [
    {
     "name": "stdout",
     "output_type": "stream",
     "text": [
      "[LightGBM] [Info] Number of positive: 38488, number of negative: 37964\n",
      "[LightGBM] [Info] Auto-choosing row-wise multi-threading, the overhead of testing was 0.028166 seconds.\n",
      "You can set `force_row_wise=true` to remove the overhead.\n",
      "And if memory is not enough, you can set `force_col_wise=true`.\n",
      "[LightGBM] [Info] Total Bins 3379\n",
      "[LightGBM] [Info] Number of data points in the train set: 76452, number of used features: 131\n",
      "[LightGBM] [Info] [binary:BoostFromScore]: pavg=0.503427 -> initscore=0.013708\n",
      "[LightGBM] [Info] Start training from score 0.013708\n",
      "LightGBM Model Accuracy: 0.6309\n"
     ]
    }
   ],
   "source": [
    "#light BGM model\n",
    "\n",
    "import lightgbm as lgb\n",
    "from sklearn.metrics import accuracy_score\n",
    "from sklearn.model_selection import train_test_split, RandomizedSearchCV\n",
    "\n",
    "\n",
    "train_data = lgb.Dataset(X_train_final, label=y_train_final)\n",
    "test_data = lgb.Dataset(X_val, label=y_val, reference=train_data)\n",
    "\n",
    "lgb_model = lgb.LGBMClassifier()\n",
    "\n",
    "from lightgbm import LGBMClassifier\n",
    "from sklearn.metrics import accuracy_score\n",
    "\n",
    "# Define the best LightGBM model\n",
    "lgbm_model = LGBMClassifier(\n",
    "    colsample_bytree=0.7,\n",
    "    learning_rate=0.07444444444444444,\n",
    "    max_depth=13,\n",
    "    n_estimators=350,\n",
    "    num_leaves=30,\n",
    "    reg_alpha=0.1,\n",
    "    reg_lambda=10.0,\n",
    "    random_state=42\n",
    ")\n",
    "\n",
    "# Train the model\n",
    "lgbm_model.fit(X_train_final, y_train_final)\n",
    "\n",
    "# Make predictions\n",
    "y_pred = lgbm_model.predict(X_val)\n",
    "\n",
    "# Evaluate accuracy\n",
    "accuracy = accuracy_score(y_val, y_pred)\n",
    "print(f\"LightGBM Model Accuracy: {accuracy:.4f}\")\n"
   ]
  },
  {
   "cell_type": "markdown",
   "id": "4dd45dcc",
   "metadata": {
    "papermill": {
     "duration": 0.024853,
     "end_time": "2025-03-19T13:56:35.872123",
     "exception": false,
     "start_time": "2025-03-19T13:56:35.847270",
     "status": "completed"
    },
    "tags": []
   },
   "source": [
    "XGBooster"
   ]
  },
  {
   "cell_type": "code",
   "execution_count": 53,
   "id": "2f0f6ed5",
   "metadata": {
    "execution": {
     "iopub.execute_input": "2025-03-19T13:56:35.924698Z",
     "iopub.status.busy": "2025-03-19T13:56:35.923938Z",
     "iopub.status.idle": "2025-03-19T14:01:35.825268Z",
     "shell.execute_reply": "2025-03-19T14:01:35.824290Z"
    },
    "papermill": {
     "duration": 299.95766,
     "end_time": "2025-03-19T14:01:35.855077",
     "exception": false,
     "start_time": "2025-03-19T13:56:35.897417",
     "status": "completed"
    },
    "tags": []
   },
   "outputs": [
    {
     "name": "stdout",
     "output_type": "stream",
     "text": [
      "Fitting 5 folds for each of 15 candidates, totalling 75 fits\n",
      "Best XGBoost Model Accuracy: 0.6247\n",
      "Best Hyperparameters: {'subsample': 0.8, 'reg_lambda': 10, 'n_estimators': 200, 'max_depth': 7, 'learning_rate': 0.08249999999999999, 'gamma': 0.2, 'colsample_bytree': 1.0}\n"
     ]
    }
   ],
   "source": [
    "import numpy as np\n",
    "import xgboost as xgb\n",
    "from sklearn.metrics import accuracy_score\n",
    "from sklearn.model_selection import RandomizedSearchCV\n",
    "from xgboost import XGBClassifier\n",
    "\n",
    "\n",
    "# Define the XGBoost model\n",
    "xgb_model = XGBClassifier(random_state=42, use_label_encoder=False, eval_metric='logloss')\n",
    "\n",
    "# Define the hyperparameter grid\n",
    "param_dist = {\n",
    "    'n_estimators': [100, 200, 500],  # Number of trees\n",
    "    'max_depth': [3, 5, 7, 10],  # Tree depth\n",
    "    'learning_rate': np.linspace(0.01, 0.3, 5),  # Learning rate\n",
    "    'subsample': [0.6, 0.8, 1.0],  # Fraction of data used per tree\n",
    "    'colsample_bytree': [0.6, 0.8, 1.0],  # Fraction of features used per tree\n",
    "    'gamma': [0, 0.1, 0.2, 0.3],  # Minimum loss reduction\n",
    "    'reg_lambda': [0, 1, 10],  # L2 regularization\n",
    "}\n",
    "\n",
    "# Set up RandomizedSearchCV\n",
    "random_search = RandomizedSearchCV(\n",
    "    estimator=xgb_model,\n",
    "    n_iter=15,\n",
    "    param_distributions=param_dist,  # Number of random samples to try\n",
    "    scoring='accuracy',  # Optimize for accuracy\n",
    "    cv=5,  # 5-fold cross-validation\n",
    "    verbose=1,  # Show progress\n",
    "    n_jobs=-1,  # Use all CPU cores\n",
    "    random_state=42,\n",
    "    error_score='raise'\n",
    ")\n",
    "\n",
    "# Fit the model with hyperparameter tuning\n",
    "random_search.fit(X_train_final, y_train_final)\n",
    "\n",
    "# Get the best model\n",
    "best_xgb = random_search.best_estimator_\n",
    "\n",
    "# Make predictions on validation data\n",
    "y_pred = best_xgb.predict(X_val)\n",
    "\n",
    "# Evaluate accuracy\n",
    "accuracy = accuracy_score(y_val, y_pred)\n",
    "print(f\"Best XGBoost Model Accuracy: {accuracy:.4f}\")\n",
    "\n",
    "# Show the best parameters found\n",
    "print(\"Best Hyperparameters:\", random_search.best_params_)\n"
   ]
  },
  {
   "cell_type": "code",
   "execution_count": 54,
   "id": "8d6d0bb9",
   "metadata": {
    "execution": {
     "iopub.execute_input": "2025-03-19T14:01:35.907901Z",
     "iopub.status.busy": "2025-03-19T14:01:35.907529Z",
     "iopub.status.idle": "2025-03-19T14:01:39.600475Z",
     "shell.execute_reply": "2025-03-19T14:01:39.599671Z"
    },
    "papermill": {
     "duration": 3.722075,
     "end_time": "2025-03-19T14:01:39.602714",
     "exception": false,
     "start_time": "2025-03-19T14:01:35.880639",
     "status": "completed"
    },
    "tags": []
   },
   "outputs": [
    {
     "name": "stdout",
     "output_type": "stream",
     "text": [
      "XGBoost Model Accuracy: 0.6247\n"
     ]
    }
   ],
   "source": [
    "from xgboost import XGBClassifier\n",
    "from sklearn.metrics import accuracy_score\n",
    "\n",
    "# Define the best XGBoost model\n",
    "xgb_model = XGBClassifier(\n",
    "    subsample=0.8,\n",
    "    reg_lambda=10,\n",
    "    n_estimators=200,\n",
    "    max_depth=7,\n",
    "    learning_rate=0.0825,\n",
    "    gamma=0.2,\n",
    "    colsample_bytree=1.0,\n",
    "    random_state=42,\n",
    "    use_label_encoder=False,\n",
    "    eval_metric='logloss'\n",
    ")\n",
    "\n",
    "# Train the model\n",
    "xgb_model.fit(X_train_final, y_train_final)\n",
    "\n",
    "# Make predictions\n",
    "y_pred = xgb_model.predict(X_val)\n",
    "\n",
    "# Evaluate accuracy\n",
    "accuracy = accuracy_score(y_val, y_pred)\n",
    "print(f\"XGBoost Model Accuracy: {accuracy:.4f}\")\n"
   ]
  },
  {
   "cell_type": "markdown",
   "id": "0674d82c",
   "metadata": {
    "papermill": {
     "duration": 0.024988,
     "end_time": "2025-03-19T14:01:39.655658",
     "exception": false,
     "start_time": "2025-03-19T14:01:39.630670",
     "status": "completed"
    },
    "tags": []
   },
   "source": [
    "Stacking Model "
   ]
  },
  {
   "cell_type": "code",
   "execution_count": 55,
   "id": "052888eb",
   "metadata": {
    "execution": {
     "iopub.execute_input": "2025-03-19T14:01:39.707228Z",
     "iopub.status.busy": "2025-03-19T14:01:39.706811Z",
     "iopub.status.idle": "2025-03-19T14:02:18.855272Z",
     "shell.execute_reply": "2025-03-19T14:02:18.854227Z"
    },
    "papermill": {
     "duration": 39.202066,
     "end_time": "2025-03-19T14:02:18.882953",
     "exception": false,
     "start_time": "2025-03-19T14:01:39.680887",
     "status": "completed"
    },
    "tags": []
   },
   "outputs": [
    {
     "name": "stdout",
     "output_type": "stream",
     "text": [
      "Stacking Model Accuracy: 0.6292\n"
     ]
    }
   ],
   "source": [
    "from sklearn.ensemble import StackingClassifier\n",
    "from sklearn.linear_model import LogisticRegression\n",
    "from xgboost import XGBClassifier\n",
    "from lightgbm import LGBMClassifier\n",
    "from sklearn.metrics import accuracy_score\n",
    "\n",
    "# Define the best XGBoost model\n",
    "xgb_model = XGBClassifier(\n",
    "    subsample=0.8,\n",
    "    reg_lambda=10,\n",
    "    n_estimators=200,\n",
    "    max_depth=7,\n",
    "    learning_rate=0.0825,\n",
    "    gamma=0.2,\n",
    "    colsample_bytree=1.0,\n",
    "    random_state=42,\n",
    "    use_label_encoder=False,\n",
    "    eval_metric='logloss'\n",
    ")\n",
    "\n",
    "# Define the best LightGBM model\n",
    "lgbm_model = LGBMClassifier(\n",
    "    colsample_bytree=0.7,\n",
    "    learning_rate=0.0744,\n",
    "    max_depth=13,\n",
    "    n_estimators=350,\n",
    "    num_leaves=30,\n",
    "    reg_alpha=0.1,\n",
    "    reg_lambda=10.0,\n",
    "    random_state=42\n",
    ")\n",
    "\n",
    "# Define the stacking classifier with Logistic Regression as the final model\n",
    "stack_model = StackingClassifier(\n",
    "    estimators=[\n",
    "        ('xgb', xgb_model),\n",
    "        ('lgbm', lgbm_model)\n",
    "    ],\n",
    "    final_estimator=LogisticRegression(),\n",
    "    cv=5,\n",
    "    n_jobs=-1\n",
    ")\n",
    "\n",
    "# Train the stacking model\n",
    "stack_model.fit(X_train_final, y_train_final)\n",
    "\n",
    "# Make predictions\n",
    "y_pred = stack_model.predict(X_val)\n",
    "\n",
    "# Evaluate accuracy\n",
    "accuracy = accuracy_score(y_val, y_pred)\n",
    "print(f\"Stacking Model Accuracy: {accuracy:.4f}\")\n"
   ]
  },
  {
   "cell_type": "code",
   "execution_count": 56,
   "id": "a60e3483",
   "metadata": {
    "execution": {
     "iopub.execute_input": "2025-03-19T14:02:18.935628Z",
     "iopub.status.busy": "2025-03-19T14:02:18.935203Z",
     "iopub.status.idle": "2025-03-19T14:02:19.124639Z",
     "shell.execute_reply": "2025-03-19T14:02:19.123636Z"
    },
    "papermill": {
     "duration": 0.217776,
     "end_time": "2025-03-19T14:02:19.126400",
     "exception": false,
     "start_time": "2025-03-19T14:02:18.908624",
     "status": "completed"
    },
    "tags": []
   },
   "outputs": [
    {
     "name": "stdout",
     "output_type": "stream",
     "text": [
      "Submission file 'submission.csv' saved successfully!\n"
     ]
    }
   ],
   "source": [
    "y_pred_final = stack_model.predict(X_test_transformed_df)\n",
    "\n",
    "# Create submission DataFrame\n",
    "submission = pd.DataFrame({\n",
    "    'id': range(len(y_pred_final)), \n",
    "    'target': y_pred_final\n",
    "})\n",
    "\n",
    "# Save submission\n",
    "submission.to_csv(\"submission.csv\", index=False)\n",
    "\n",
    "print(\"Submission file 'submission.csv' saved successfully!\")\n"
   ]
  },
  {
   "cell_type": "code",
   "execution_count": 57,
   "id": "3ddedd05",
   "metadata": {
    "execution": {
     "iopub.execute_input": "2025-03-19T14:02:19.182049Z",
     "iopub.status.busy": "2025-03-19T14:02:19.181697Z",
     "iopub.status.idle": "2025-03-19T14:02:19.190057Z",
     "shell.execute_reply": "2025-03-19T14:02:19.189169Z"
    },
    "papermill": {
     "duration": 0.036396,
     "end_time": "2025-03-19T14:02:19.191539",
     "exception": false,
     "start_time": "2025-03-19T14:02:19.155143",
     "status": "completed"
    },
    "tags": []
   },
   "outputs": [
    {
     "data": {
      "text/plain": [
       "target\n",
       "1    5419\n",
       "0    4581\n",
       "Name: count, dtype: int64"
      ]
     },
     "execution_count": 57,
     "metadata": {},
     "output_type": "execute_result"
    }
   ],
   "source": [
    "submission['target'].value_counts()"
   ]
  },
  {
   "cell_type": "code",
   "execution_count": null,
   "id": "1873851c",
   "metadata": {
    "papermill": {
     "duration": 0.024809,
     "end_time": "2025-03-19T14:02:19.242069",
     "exception": false,
     "start_time": "2025-03-19T14:02:19.217260",
     "status": "completed"
    },
    "tags": []
   },
   "outputs": [],
   "source": []
  }
 ],
 "metadata": {
  "kaggle": {
   "accelerator": "none",
   "dataSources": [
    {
     "databundleVersionId": 10592855,
     "sourceId": 90791,
     "sourceType": "competition"
    }
   ],
   "dockerImageVersionId": 30839,
   "isGpuEnabled": false,
   "isInternetEnabled": true,
   "language": "python",
   "sourceType": "notebook"
  },
  "kernelspec": {
   "display_name": "Python 3",
   "language": "python",
   "name": "python3"
  },
  "language_info": {
   "codemirror_mode": {
    "name": "ipython",
    "version": 3
   },
   "file_extension": ".py",
   "mimetype": "text/x-python",
   "name": "python",
   "nbconvert_exporter": "python",
   "pygments_lexer": "ipython3",
   "version": "3.10.12"
  },
  "papermill": {
   "default_parameters": {},
   "duration": 376.485378,
   "end_time": "2025-03-19T14:02:20.290025",
   "environment_variables": {},
   "exception": null,
   "input_path": "__notebook__.ipynb",
   "output_path": "__notebook__.ipynb",
   "parameters": {},
   "start_time": "2025-03-19T13:56:03.804647",
   "version": "2.6.0"
  }
 },
 "nbformat": 4,
 "nbformat_minor": 5
}
